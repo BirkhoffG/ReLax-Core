{
 "cells": [
  {
   "attachments": {},
   "cell_type": "markdown",
   "metadata": {},
   "source": [
    "# Utils\n",
    "\n",
    "> Define utility funtions for `relax`."
   ]
  },
  {
   "cell_type": "code",
   "execution_count": 1,
   "metadata": {
    "ExecuteTime": {
     "end_time": "2023-11-10T06:38:01.508540797Z",
     "start_time": "2023-11-10T06:38:01.467755314Z"
    }
   },
   "outputs": [],
   "source": [
    "#| default_exp utils"
   ]
  },
  {
   "cell_type": "code",
   "execution_count": 2,
   "metadata": {
    "ExecuteTime": {
     "end_time": "2023-11-10T06:38:02.115318558Z",
     "start_time": "2023-11-10T06:38:02.085323051Z"
    }
   },
   "outputs": [],
   "source": [
    "#| hide\n",
    "%load_ext autoreload\n",
    "%autoreload 2\n",
    "from ipynb_path import *\n",
    "import warnings\n",
    "\n",
    "warnings.simplefilter(action='ignore', category=FutureWarning)"
   ]
  },
  {
   "cell_type": "code",
   "execution_count": 3,
   "metadata": {
    "ExecuteTime": {
     "end_time": "2023-11-10T06:38:07.238516713Z",
     "start_time": "2023-11-10T06:38:02.798672829Z"
    }
   },
   "outputs": [
    {
     "name": "stdout",
     "output_type": "stream",
     "text": [
      "Using JAX backend.\n"
     ]
    }
   ],
   "source": [
    "#| export\n",
    "from __future__ import annotations\n",
    "from relax.import_essentials import *\n",
    "import nbdev\n",
    "from fastcore.basics import AttrDict\n",
    "from nbdev.showdoc import BasicMarkdownRenderer\n",
    "from inspect import isclass\n",
    "from fastcore.test import *\n",
    "from jax.core import InconclusiveDimensionOperation"
   ]
  },
  {
   "cell_type": "markdown",
   "metadata": {},
   "source": [
    "## Configurations"
   ]
  },
  {
   "cell_type": "code",
   "execution_count": 4,
   "metadata": {
    "ExecuteTime": {
     "end_time": "2023-11-10T06:38:09.186196715Z",
     "start_time": "2023-11-10T06:38:09.144526819Z"
    }
   },
   "outputs": [],
   "source": [
    "#| export\n",
    "def validate_configs(\n",
    "    configs: dict | BaseParser,  # A configuration of the model/dataset.\n",
    "    config_cls: BaseParser,  # The desired configuration class.\n",
    ") -> BaseParser:\n",
    "    \"\"\"return a valid configuration object.\"\"\"\n",
    "\n",
    "    assert isclass(config_cls), f\"`config_cls` should be a class.\"\n",
    "    assert issubclass(config_cls, BaseParser), \\\n",
    "        f\"{config_cls} should be a subclass of `BaseParser`.\"\n",
    "    \n",
    "    if isinstance(configs, dict):\n",
    "        configs = config_cls(**configs)\n",
    "    if not isinstance(configs, config_cls):\n",
    "        raise TypeError(\n",
    "            f\"configs should be either a `dict` or an instance of {config_cls.__name__}.\")\n",
    "    return configs"
   ]
  },
  {
   "cell_type": "markdown",
   "metadata": {},
   "source": [
    "We define a configuration object (which inherent `BaseParser`) \n",
    "to manage training/model/data configurations.\n",
    "`validate_configs` ensures to return the designated configuration object.\n",
    "\n",
    "For example, we define a configuration object `LearningConfigs`:"
   ]
  },
  {
   "cell_type": "code",
   "execution_count": 5,
   "metadata": {
    "ExecuteTime": {
     "end_time": "2023-11-10T06:38:12.853148753Z",
     "start_time": "2023-11-10T06:38:12.739172987Z"
    }
   },
   "outputs": [],
   "source": [
    "class LearningConfigs(BaseParser):\n",
    "    lr: float"
   ]
  },
  {
   "cell_type": "markdown",
   "metadata": {},
   "source": [
    "A configuration can be `LearningConfigs`, or the raw data in dictionary."
   ]
  },
  {
   "cell_type": "code",
   "execution_count": 6,
   "metadata": {
    "ExecuteTime": {
     "end_time": "2023-11-10T06:38:14.348411924Z",
     "start_time": "2023-11-10T06:38:14.303681198Z"
    }
   },
   "outputs": [],
   "source": [
    "configs_dict = dict(lr=0.01)"
   ]
  },
  {
   "cell_type": "markdown",
   "metadata": {},
   "source": [
    "`validate_configs` will return a designated configuration object."
   ]
  },
  {
   "cell_type": "code",
   "execution_count": 7,
   "metadata": {
    "ExecuteTime": {
     "end_time": "2023-11-10T06:38:15.305738543Z",
     "start_time": "2023-11-10T06:38:15.264866659Z"
    }
   },
   "outputs": [],
   "source": [
    "configs = validate_configs(configs_dict, LearningConfigs)\n",
    "assert type(configs) == LearningConfigs\n",
    "assert configs.lr == configs_dict['lr']"
   ]
  },
  {
   "cell_type": "code",
   "execution_count": 8,
   "metadata": {
    "ExecuteTime": {
     "end_time": "2023-11-10T06:38:15.935419169Z",
     "start_time": "2023-11-10T06:38:15.904612109Z"
    }
   },
   "outputs": [],
   "source": [
    "#| include: false\n",
    "# TODO: add a test for this\n",
    "# from relax.module import PredictiveTrainingModuleConfigs\n",
    "# from relax.methods.counternet import CounterNetTrainingModuleConfigs"
   ]
  },
  {
   "cell_type": "code",
   "execution_count": 9,
   "metadata": {
    "ExecuteTime": {
     "end_time": "2023-11-10T06:38:16.506981806Z",
     "start_time": "2023-11-10T06:38:16.472002790Z"
    }
   },
   "outputs": [],
   "source": [
    "#| hide\n",
    "# TODO: add a test for this\n",
    "# configs = {\n",
    "#     'lr': 0.1,\n",
    "#     'sizes': [10, 5],\n",
    "#     'lambda_1': 1.,\n",
    "#     'lambda_2': 1.,\n",
    "#     'lambda_3': 1.,\n",
    "# }\n",
    "# p_config = validate_configs(configs, PredictiveTrainingModuleConfigs)\n",
    "# cf_config = validate_configs(configs, CounterNetTrainingModuleConfigs)\n",
    "\n",
    "# assert isinstance(p_config, PredictiveTrainingModuleConfigs)\n",
    "# assert isinstance(cf_config, CounterNetTrainingModuleConfigs)\n",
    "\n",
    "# assert not isinstance(p_config, dict)\n",
    "# assert not isinstance(cf_config, dict)\n",
    "\n",
    "# p_config = validate_configs(p_config, PredictiveTrainingModuleConfigs)\n",
    "# cf_config = validate_configs(cf_config, CounterNetTrainingModuleConfigs)\n",
    "\n",
    "# assert isinstance(p_config, PredictiveTrainingModuleConfigs)\n",
    "# assert isinstance(cf_config, CounterNetTrainingModuleConfigs)\n"
   ]
  },
  {
   "cell_type": "markdown",
   "metadata": {},
   "source": [
    "## Serialization"
   ]
  },
  {
   "cell_type": "code",
   "execution_count": 10,
   "metadata": {
    "ExecuteTime": {
     "end_time": "2023-11-10T06:38:17.649017551Z",
     "start_time": "2023-11-10T06:38:17.592457500Z"
    }
   },
   "outputs": [],
   "source": [
    "#| export\n",
    "def _is_array(x):\n",
    "    return isinstance(x, np.ndarray) or isinstance(x, jnp.ndarray) or isinstance(x, list)\n",
    "\n",
    "def save_pytree(pytree, saved_dir):\n",
    "    \"\"\"Save a pytree to a directory.\"\"\"\n",
    "    with open(os.path.join(saved_dir, \"data.npy\"), \"wb\") as f:\n",
    "        for x in jax.tree_util.tree_leaves(pytree):\n",
    "            np.save(f, x)\n",
    "\n",
    "    tree_struct = jax.tree_util.tree_map(lambda t: _is_array(t), pytree)\n",
    "    with open(os.path.join(saved_dir, \"treedef.json\"), \"w\") as f:\n",
    "        json.dump(tree_struct, f)"
   ]
  },
  {
   "cell_type": "markdown",
   "metadata": {},
   "source": [
    "The pytree will be stored under a directory with two files: \n",
    "\n",
    "* `{saved_dir}/data.npy`: This file stores the flattened leaves.\n",
    "* `{saved_dir}/treedef.json`: This file stores the pytree structure and the information on whether the leave is an array or not. \n",
    "\n",
    "For example, a pytree"
   ]
  },
  {
   "cell_type": "code",
   "execution_count": 11,
   "metadata": {
    "ExecuteTime": {
     "end_time": "2023-11-10T06:38:19.296940315Z",
     "start_time": "2023-11-10T06:38:19.208847906Z"
    }
   },
   "outputs": [],
   "source": [
    "pytree = {\n",
    "    'a': np.random.randn(5, 1),\n",
    "    'b': 1,\n",
    "    'c': {\n",
    "        \n",
    "        'd': True,\n",
    "        'e': \"Hello\",\n",
    "        'f': np.array([\"a\", \"b\", \"c\"])\n",
    "    }\n",
    "}"
   ]
  },
  {
   "cell_type": "markdown",
   "metadata": {},
   "source": [
    "will be stored as"
   ]
  },
  {
   "cell_type": "code",
   "execution_count": 12,
   "metadata": {
    "ExecuteTime": {
     "end_time": "2023-11-10T06:38:20.586706908Z",
     "start_time": "2023-11-10T06:38:20.537278805Z"
    }
   },
   "outputs": [
    {
     "name": "stdout",
     "output_type": "stream",
     "text": [
      "data:  [array([[-1.56906349],\n",
      "       [-0.18791164],\n",
      "       [-0.08231128],\n",
      "       [ 1.2647431 ],\n",
      "       [-2.12119984]]), 1, True, 'Hello', array(['a', 'b', 'c'], dtype='<U1')]\n",
      "treedef:  {'a': True, 'b': False, 'c': {'d': False, 'e': False, 'f': True}}\n"
     ]
    }
   ],
   "source": [
    "#| echo: false\n",
    "data, pytreedef = jax.tree_util.tree_flatten(pytree)\n",
    "pytreedef = jax.tree_util.tree_map(lambda x: _is_array(x), pytree)\n",
    "print('data: ', data)\n",
    "print('treedef: ', pytreedef)"
   ]
  },
  {
   "cell_type": "code",
   "execution_count": 13,
   "metadata": {
    "ExecuteTime": {
     "end_time": "2023-11-10T06:38:21.344706738Z",
     "start_time": "2023-11-10T06:38:21.318678110Z"
    }
   },
   "outputs": [],
   "source": [
    "#| export\n",
    "def load_pytree(saved_dir):\n",
    "    \"\"\"Load a pytree from a saved directory.\"\"\"\n",
    "    with open(os.path.join(saved_dir, \"treedef.json\"), \"r\") as f:\n",
    "        tree_struct = json.load(f)\n",
    "\n",
    "    leaves, treedef = jax.tree_util.tree_flatten(tree_struct)\n",
    "    with open(os.path.join(saved_dir, \"data.npy\"), \"rb\") as f:\n",
    "        flat_state = [\n",
    "            np.load(f, allow_pickle=True) if is_arr else np.load(f, allow_pickle=True).item()\n",
    "            for is_arr in leaves\n",
    "        ]\n",
    "    return jax.tree_util.tree_unflatten(treedef, flat_state)"
   ]
  },
  {
   "cell_type": "code",
   "execution_count": 14,
   "metadata": {
    "ExecuteTime": {
     "end_time": "2023-11-10T06:38:22.059530789Z",
     "start_time": "2023-11-10T06:38:22.024062961Z"
    }
   },
   "outputs": [],
   "source": [
    "# Store a dictionary to disk\n",
    "pytree = {\n",
    "    'a': np.random.randn(100, 1),\n",
    "    'b': 1,\n",
    "    'c': {\n",
    "        'd': True,\n",
    "        'e': \"Hello\",\n",
    "        'f': np.array([\"a\", \"b\", \"c\"])\n",
    "    }\n",
    "}\n",
    "os.makedirs('tmp', exist_ok=True)\n",
    "save_pytree(pytree, 'tmp')\n",
    "pytree_loaded = load_pytree('tmp')\n",
    "assert np.allclose(pytree['a'], pytree_loaded['a'])\n",
    "assert pytree['a'].dtype == pytree_loaded['a'].dtype\n",
    "assert pytree['b'] == pytree_loaded['b']\n",
    "assert pytree['c']['d'] == pytree_loaded['c']['d']\n",
    "assert pytree['c']['e'] == pytree_loaded['c']['e']\n",
    "assert np.all(pytree['c']['f'] == pytree_loaded['c']['f'])"
   ]
  },
  {
   "cell_type": "code",
   "execution_count": 15,
   "metadata": {
    "ExecuteTime": {
     "end_time": "2023-11-10T06:38:22.900176104Z",
     "start_time": "2023-11-10T06:38:22.878383648Z"
    }
   },
   "outputs": [],
   "source": [
    "# Store a list to disk\n",
    "pytree = [\n",
    "    np.random.randn(100, 1),\n",
    "    {'a': 1, 'b': np.array([1, 2, 3])},\n",
    "    1,\n",
    "    [1, 2, 3],\n",
    "    \"good\"\n",
    "]\n",
    "save_pytree(pytree, 'tmp')\n",
    "pytree_loaded = load_pytree('tmp')\n",
    "\n",
    "assert np.allclose(pytree[0], pytree_loaded[0])\n",
    "assert pytree[0].dtype == pytree_loaded[0].dtype\n",
    "assert pytree[1]['a'] == pytree_loaded[1]['a']\n",
    "assert np.all(pytree[1]['b'] == pytree_loaded[1]['b'])\n",
    "assert pytree[2] == pytree_loaded[2]\n",
    "assert pytree[3] == pytree_loaded[3]\n",
    "assert isinstance(pytree_loaded[3], list)\n",
    "assert pytree[4] == pytree_loaded[4]"
   ]
  },
  {
   "cell_type": "code",
   "execution_count": 16,
   "metadata": {
    "ExecuteTime": {
     "end_time": "2023-11-10T06:38:23.913173104Z",
     "start_time": "2023-11-10T06:38:23.877605477Z"
    }
   },
   "outputs": [],
   "source": [
    "#| hide\n",
    "shutil.rmtree('tmp')"
   ]
  },
  {
   "attachments": {},
   "cell_type": "markdown",
   "metadata": {},
   "source": [
    "## Vectorization Utils"
   ]
  },
  {
   "cell_type": "code",
   "execution_count": 17,
   "metadata": {
    "ExecuteTime": {
     "end_time": "2023-11-10T06:38:24.996603960Z",
     "start_time": "2023-11-10T06:38:24.955404319Z"
    }
   },
   "outputs": [],
   "source": [
    "#| exporti\n",
    "def _reshape_x(x: Array):\n",
    "    x_size = x.shape\n",
    "    if len(x_size) > 1 and x_size[0] != 1:\n",
    "        raise ValueError(\n",
    "            f\"\"\"Invalid Input Shape: Require `x.shape` = (1, k) or (k, ),\n",
    "but got `x.shape` = {x.shape}. This method expects a single input instance.\"\"\"\n",
    "        )\n",
    "    if len(x_size) == 1:\n",
    "        x = x.reshape(1, -1)\n",
    "    return x, x_size"
   ]
  },
  {
   "cell_type": "code",
   "execution_count": 18,
   "metadata": {
    "ExecuteTime": {
     "end_time": "2023-11-10T06:38:26.011283260Z",
     "start_time": "2023-11-10T06:38:25.975995184Z"
    }
   },
   "outputs": [],
   "source": [
    "#| export\n",
    "def auto_reshaping(\n",
    "    reshape_argname: str, # The name of the argument to be reshaped.\n",
    "    reshape_output: bool = True, # Whether to reshape the output. Useful to set `False` when returning multiple cfs.\n",
    "):\n",
    "    \"\"\"\n",
    "    Decorator to automatically reshape function's input into (1, k), \n",
    "    and out to input's shape.\n",
    "    \"\"\"\n",
    "    def decorator(func):\n",
    "        def wrapper(*args, **kwargs):\n",
    "            kwargs = inspect.getcallargs(func, *args, **kwargs)\n",
    "            if reshape_argname in kwargs:\n",
    "                reshaped_x, x_shape = _reshape_x(kwargs[reshape_argname])\n",
    "                kwargs[reshape_argname] = reshaped_x\n",
    "            else:\n",
    "                raise ValueError(\n",
    "                    f\"Invalid argument name: `{reshape_argname}` is not a valid argument name.\")\n",
    "            # Call the function.\n",
    "            cf = func(**kwargs)\n",
    "            if not isinstance(cf, Array): \n",
    "                raise ValueError(\n",
    "                    f\"Invalid return type: must be a `jax.Array`, but got `{type(cf).__name__}`.\")\n",
    "            if reshape_output:\n",
    "                try: \n",
    "                    cf = cf.reshape(x_shape)\n",
    "                except (InconclusiveDimensionOperation, TypeError) as e:\n",
    "                    raise ValueError(\n",
    "                        f\"Invalid return shape: Require `cf.shape` = {cf.shape} \"\n",
    "                        f\"is not compatible with `x.shape` = {x_shape}.\")\n",
    "            return cf\n",
    "\n",
    "        return wrapper\n",
    "    return decorator"
   ]
  },
  {
   "attachments": {},
   "cell_type": "markdown",
   "metadata": {},
   "source": [
    "This decorator ensures that the specified input argument and output \n",
    "of a function are in the same shape. \n",
    "This is particularly useful when using `jax.vamp`."
   ]
  },
  {
   "cell_type": "code",
   "execution_count": 19,
   "metadata": {
    "ExecuteTime": {
     "end_time": "2023-11-10T06:38:27.141513274Z",
     "start_time": "2023-11-10T06:38:27.024133904Z"
    }
   },
   "outputs": [],
   "source": [
    "@auto_reshaping('x')\n",
    "def f_vmap(x): return x * jnp.ones((10,))\n",
    "assert vmap(f_vmap)(jnp.ones((10, 10))).shape == (10, 10)\n",
    "\n",
    "@auto_reshaping('x', reshape_output=False)\n",
    "def f_vmap(x): return x * jnp.ones((10,))\n",
    "assert vmap(f_vmap)(jnp.ones((10, 10))).shape == (10, 1, 10)"
   ]
  },
  {
   "cell_type": "code",
   "execution_count": 20,
   "metadata": {
    "ExecuteTime": {
     "end_time": "2023-11-10T06:38:27.600491863Z",
     "start_time": "2023-11-10T06:38:27.494606555Z"
    }
   },
   "outputs": [],
   "source": [
    "#| hide\n",
    "@auto_reshaping('x')\n",
    "def f_1(x):\n",
    "    assert x.shape[0] == 1\n",
    "    return x\n",
    "\n",
    "assert f_1(jnp.ones(10)).shape == (10,)\n",
    "assert f_1(jnp.ones((1, 10))).shape == (1, 10)\n",
    "\n",
    "@auto_reshaping('x')\n",
    "@jit\n",
    "def f_2(y, x):\n",
    "    assert x.shape[0] == 1\n",
    "    return x\n",
    "\n",
    "assert f_2(None, jnp.ones(10)).shape == (10,)\n",
    "assert f_2(None, jnp.ones((1, 10))).shape == (1, 10)\n",
    "\n",
    "@auto_reshaping('x')\n",
    "def f_3(x, y): return x\n",
    "test_fail(f_3, args=(jnp.ones((10, 10)), None), \n",
    "          contains='Invalid Input Shape: Require `x.shape` = (1, k)')\n",
    "\n",
    "@auto_reshaping('x')\n",
    "def f_4(x, y): return jnp.arange(3)\n",
    "test_fail(f_4, args=(jnp.ones((10, )), None), \n",
    "          contains='Invalid return shape: Require `cf.shape`')\n",
    "\n",
    "@auto_reshaping('x')\n",
    "def f_5(x, y): return jnp.array([1, 2, 3]), jnp.array([1, 2, 3])\n",
    "test_fail(f_5, args=(jnp.ones((10, )), None), \n",
    "          contains='Invalid return type: must be a `jax.Array`, but got `tuple`.')\n"
   ]
  },
  {
   "cell_type": "markdown",
   "metadata": {},
   "source": [
    "## Gradient Utils"
   ]
  },
  {
   "cell_type": "code",
   "execution_count": 21,
   "metadata": {
    "ExecuteTime": {
     "end_time": "2023-11-10T06:38:28.729238117Z",
     "start_time": "2023-11-10T06:38:28.679544633Z"
    }
   },
   "outputs": [],
   "source": [
    "#| export\n",
    "def grad_update(\n",
    "    grads, # A pytree of gradients.\n",
    "    params, # A pytree of parameters.\n",
    "    opt_state: optax.OptState,\n",
    "    opt: optax.GradientTransformation,\n",
    "): # Return (upt_params, upt_opt_state)\n",
    "    updates, opt_state = opt.update(grads, opt_state, params)\n",
    "    upt_params = optax.apply_updates(params, updates)\n",
    "    return upt_params, opt_state"
   ]
  },
  {
   "cell_type": "markdown",
   "metadata": {},
   "source": [
    "## Helper functions"
   ]
  },
  {
   "cell_type": "code",
   "execution_count": 22,
   "metadata": {
    "ExecuteTime": {
     "end_time": "2023-11-10T06:38:29.890801775Z",
     "start_time": "2023-11-10T06:38:29.846618254Z"
    }
   },
   "outputs": [],
   "source": [
    "#| export\n",
    "def load_json(f_name: str) -> Dict[str, Any]:  # file name\n",
    "    with open(f_name) as f:\n",
    "        return json.load(f)\n"
   ]
  },
  {
   "attachments": {},
   "cell_type": "markdown",
   "metadata": {},
   "source": [
    "## Config"
   ]
  },
  {
   "cell_type": "code",
   "execution_count": 23,
   "metadata": {
    "ExecuteTime": {
     "end_time": "2023-11-10T06:38:31.044953559Z",
     "start_time": "2023-11-10T06:38:30.999553258Z"
    }
   },
   "outputs": [],
   "source": [
    "#| exporti\n",
    "@dataclass\n",
    "class Config:\n",
    "    rng_reserve_size: int\n",
    "    global_seed: int\n",
    "\n",
    "    @classmethod\n",
    "    def default(cls) -> Config:\n",
    "        return cls(rng_reserve_size=1, global_seed=42)\n",
    "\n",
    "main_config = Config.default()"
   ]
  },
  {
   "cell_type": "code",
   "execution_count": 24,
   "metadata": {
    "ExecuteTime": {
     "end_time": "2023-11-10T06:38:32.771582697Z",
     "start_time": "2023-11-10T06:38:32.695643857Z"
    }
   },
   "outputs": [],
   "source": [
    "#| export\n",
    "def get_config() -> Config: \n",
    "    return main_config"
   ]
  },
  {
   "cell_type": "code",
   "execution_count": 25,
   "metadata": {
    "ExecuteTime": {
     "end_time": "2023-11-10T07:27:54.894610863Z",
     "start_time": "2023-11-10T07:27:54.764399917Z"
    },
    "collapsed": false,
    "jupyter": {
     "outputs_hidden": false
    }
   },
   "outputs": [],
   "source": [
    "#| export\n",
    "def set_config(\n",
    "    *,\n",
    "    rng_reserve_size: int=None,\n",
    "    global_seed: int=None,\n",
    "    **kwargs\n",
    ") -> None:\n",
    "    \n",
    "    if not kwargs:\n",
    "        #set to default if no arguments are passed\n",
    "        #Can change to provide error\n",
    "        main_config.rng_reserve_size = Config.default().rng_reserve_size\n",
    "        main_config.global_seed = Config.default().global_seed\n",
    "        \n",
    "    if rng_reserve_size is not None:\n",
    "        if not isinstance(rng_reserve_size, int):\n",
    "            raise TypeError(f\"`rng_reserve_size` must be an integer, but got {type(rng_reserve_size).__name__}.\")\n",
    "        if rng_reserve_size < 0:\n",
    "            raise ValueError(f\"`rng_reserve_size` must be non-negative, but got {rng_reserve_size}.\")\n",
    "        main_config.rng_reserve_size = rng_reserve_size\n",
    "        \n",
    "    if global_seed is not None:\n",
    "        if not isinstance(global_seed, int):\n",
    "            raise TypeError(f\"`global_seed` must be an integer, but got {type(global_seed).__name__}.\")\n",
    "        if global_seed < 0:\n",
    "            raise ValueError(f\"`global_seed` must be non-negative, but got {global_seed}.\")\n",
    "        main_config.global_seed = global_seed\n",
    "        \n",
    "    for k, v in kwargs.items():\n",
    "        #check if the config name is valid\n",
    "        if not hasattr(main_config, k):\n",
    "            raise ValueError(f\"Invalid config name: {k}.\")\n",
    "        \n",
    "        if k == \"rng_reserve_size\":\n",
    "            if not isinstance(v, int):\n",
    "                raise ValueError(f\"`rng_reserve_size` must be an integer, but got {type(rng_reserve_size).__name__}.\")\n",
    "            if v < 0:\n",
    "                raise ValueError(f\"`rng_reserve_size` must be non-negative, but got {rng_reserve_size}.\")\n",
    "\n",
    "        elif k == \"global_seed\":\n",
    "            if not isinstance(v, int):\n",
    "                raise ValueError(f\"`global_seed` must be an integer, but got {type(global_seed).__name__}.\")\n",
    "            if v < 0:\n",
    "                raise ValueError(f\"`global_seed` must be non-negative, but got {global_seed}.\")\n",
    "\n",
    "        setattr(main_config, k, v)"
   ]
  },
  {
   "cell_type": "code",
   "execution_count": 26,
   "metadata": {
    "ExecuteTime": {
     "end_time": "2023-11-10T07:27:55.725263458Z",
     "start_time": "2023-11-10T07:27:55.691327435Z"
    },
    "collapsed": false,
    "jupyter": {
     "outputs_hidden": false
    }
   },
   "outputs": [],
   "source": [
    "# Generic Test cases\n",
    "set_config(rng_reserve_size=100)\n",
    "assert get_config().rng_reserve_size == 100\n",
    "set_config(global_seed=1234)\n",
    "assert get_config().global_seed == 1234\n",
    "set_config(rng_reserve_size=2, global_seed=234)\n",
    "assert get_config().rng_reserve_size == 2 and get_config().global_seed == 234\n",
    "set_config()\n",
    "assert get_config() == Config.default()\n",
    "#Tests for invalid inputs\n",
    "test_fail(set_config, kwargs={'rng_reserve_size': -1}, contains='must be non-negative')\n",
    "test_fail(set_config, kwargs={'rng_reserve_size': 22.7}, contains='must be an integer')\n",
    "test_fail(set_config, kwargs={'global_seed': -4}, contains='must be non-negative')\n",
    "test_fail(set_config, kwargs={'global_seed': 3.14}, contains='must be an integer')\n",
    "test_fail(set_config, kwargs={'random': 3}, contains='Invalid config name')\n"
   ]
  }
 ],
 "metadata": {
  "kernelspec": {
   "display_name": "Python 3 (ipykernel)",
   "language": "python",
   "name": "python3"
  },
  "language_info": {
   "codemirror_mode": {
    "name": "ipython",
    "version": 3
   },
   "file_extension": ".py",
   "mimetype": "text/x-python",
   "name": "python",
   "nbconvert_exporter": "python",
   "pygments_lexer": "ipython3",
   "version": "3.10.12"
  }
 },
 "nbformat": 4,
 "nbformat_minor": 4
}
