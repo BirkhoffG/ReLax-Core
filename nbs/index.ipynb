{
 "cells": [
  {
   "attachments": {},
   "cell_type": "markdown",
   "metadata": {},
   "source": [
    "# ReLax\n",
    "\n",
    "> Recourse Explanation Library in JAX."
   ]
  },
  {
   "attachments": {},
   "cell_type": "markdown",
   "metadata": {},
   "source": [
    "![Python](https://img.shields.io/pypi/pyversions/jax-relax.svg)\n",
    "![CI status](https://github.com/BirkhoffG/jax-relax/actions/workflows/test.yaml/badge.svg)\n",
    "![Docs](https://github.com/BirkhoffG/jax-relax/actions/workflows/deploy.yaml/badge.svg)\n",
    "![pypi](https://img.shields.io/pypi/v/jax-relax.svg)\n",
    "![GitHub License](https://img.shields.io/github/license/BirkhoffG/jax-relax.svg)\n",
    "\n",
    "[**Overview**](#overview) | \n",
    "[**Installation**](#installation) | \n",
    "[**Tutorials**](https://birkhoffg.github.io/jax-relax/tutorials/getting_started.html) | \n",
    "[**Documentation**](https://birkhoffg.github.io/jax-relax/) | \n",
    "[**Citing ReLax**](#citing-relax) \n"
   ]
  },
  {
   "attachments": {},
   "cell_type": "markdown",
   "metadata": {},
   "source": [
    "## Overview\n",
    "\n",
    "`ReLax` (**Re**course Explanation **L**ibrary in J**ax**) is an efficient and scalable \n",
    "benchmarking library for recourse and counterfactual explanations, built on top of [jax](https://jax.readthedocs.io/en/latest/).\n",
    "By leveraging language primitives such as *vectorization*, *parallelization*, and *just-in-time* compilation in \n",
    "[jax](https://jax.readthedocs.io/en/latest/),\n",
    "`ReLax` offers massive speed improvements in generating individual (or local) explanations\n",
    "for predictions made by Machine Learning algorithms.\n",
    "\n",
    "Some of the key features are as follows:\n",
    "\n",
    "* 🏃 **Fast and scalable** recourse generation.\n",
    "\n",
    "* 🚀 **Accelerated** over `cpu`, `gpu`, `tpu`.\n",
    "\n",
    "* 🪓  **Comprehensive** set of recourse methods implemented for benchmarking.\n",
    "\n",
    "* 👐 **Customizable** API to enable the building of entire modeling and interpretation pipelines for new recourse algorithms."
   ]
  },
  {
   "attachments": {},
   "cell_type": "markdown",
   "metadata": {},
   "source": [
    "## Installation\n",
    "\n",
    "```bash\n",
    "pip install jax-relax\n",
    "# Or install the latest version of `jax-relax`\n",
    "pip install git+https://github.com/BirkhoffG/jax-relax.git \n",
    "```\n",
    "\n",
    "To futher unleash the power of accelerators (i.e., GPU/TPU), \n",
    "we suggest to first install this library via `pip install jax-relax`.\n",
    "Then, follow steps in the [official install guidelines](https://github.com/google/jax#installation)\n",
    "to install the right version for GPU or TPU.\n",
    "\n"
   ]
  },
  {
   "cell_type": "markdown",
   "metadata": {},
   "source": [
    "## Dive into `ReLax`\n",
    "\n",
    "`ReLax` is a recourse explanation library for explaining (any) JAX-based ML models."
   ]
  },
  {
   "cell_type": "code",
   "execution_count": null,
   "metadata": {},
   "outputs": [],
   "source": [
    "#| output: false\n",
    "from relax.ml_model import MLModule\n",
    "from relax.methods import VanillaCF\n",
    "from sklearn.datasets import make_classification\n",
    "from sklearn.model_selection import train_test_split\n",
    "import functools as ft\n",
    "import jax"
   ]
  },
  {
   "cell_type": "markdown",
   "metadata": {},
   "source": [
    "Let's first generate synthetic data:"
   ]
  },
  {
   "cell_type": "code",
   "execution_count": null,
   "metadata": {},
   "outputs": [],
   "source": [
    "xs, ys = make_classification(n_samples=1000, n_features=10, random_state=42)\n",
    "train_xs, test_xs, train_ys, test_ys = train_test_split(xs, ys, random_state=42)"
   ]
  },
  {
   "cell_type": "markdown",
   "metadata": {},
   "source": [
    "Next, we fit an MLP model for this data. This model can be any model implmented in JAX. \n",
    "We will use the `MLModule` in `ReLax` as an example."
   ]
  },
  {
   "cell_type": "code",
   "execution_count": null,
   "metadata": {},
   "outputs": [
    {
     "name": "stdout",
     "output_type": "stream",
     "text": [
      "Epoch 1/5\n",
      "\u001b[1m12/12\u001b[0m \u001b[32m━━━━━━━━━━━━━━━━━━━━\u001b[0m\u001b[37m\u001b[0m \u001b[1m4s\u001b[0m 281ms/step - accuracy: 0.5562 - loss: 1.7768\n",
      "Epoch 2/5\n",
      "\u001b[1m12/12\u001b[0m \u001b[32m━━━━━━━━━━━━━━━━━━━━\u001b[0m\u001b[37m\u001b[0m \u001b[1m0s\u001b[0m 6ms/step - accuracy: 0.6167 - loss: 1.0861 \n",
      "Epoch 3/5\n",
      "\u001b[1m12/12\u001b[0m \u001b[32m━━━━━━━━━━━━━━━━━━━━\u001b[0m\u001b[37m\u001b[0m \u001b[1m0s\u001b[0m 5ms/step - accuracy: 0.6768 - loss: 0.8992 \n",
      "Epoch 4/5\n",
      "\u001b[1m12/12\u001b[0m \u001b[32m━━━━━━━━━━━━━━━━━━━━\u001b[0m\u001b[37m\u001b[0m \u001b[1m0s\u001b[0m 6ms/step - accuracy: 0.7343 - loss: 0.7246 \n",
      "Epoch 5/5\n",
      "\u001b[1m12/12\u001b[0m \u001b[32m━━━━━━━━━━━━━━━━━━━━\u001b[0m\u001b[37m\u001b[0m \u001b[1m0s\u001b[0m 5ms/step - accuracy: 0.7616 - loss: 0.5708 \n"
     ]
    },
    {
     "data": {
      "text/plain": [
       "<relax.ml_model.MLModule>"
      ]
     },
     "execution_count": null,
     "metadata": {},
     "output_type": "execute_result"
    }
   ],
   "source": [
    "#| output: false\n",
    "model = MLModule()\n",
    "model.train((train_xs, train_ys), epochs=5, batch_size=64)"
   ]
  },
  {
   "cell_type": "markdown",
   "metadata": {},
   "source": [
    "Generating recourse explanations are straightforward. \n",
    "We can simply call `generate_cf` of an implemented recourse method to generate *one* recourse explanation:"
   ]
  },
  {
   "cell_type": "code",
   "execution_count": null,
   "metadata": {},
   "outputs": [
    {
     "data": {
      "application/vnd.jupyter.widget-view+json": {
       "model_id": "e01e7dd456a94e4c8d6b70cf6ecfe4e6",
       "version_major": 2,
       "version_minor": 0
      },
      "text/plain": [
       "  0%|          | 0/100 [00:00<?, ?it/s]"
      ]
     },
     "metadata": {},
     "output_type": "display_data"
    }
   ],
   "source": [
    "#| output: false\n",
    "vcf = VanillaCF()\n",
    "vcf.init_fns()\n",
    "cf = vcf.generate_cf(test_xs[0], model.pred_fn)\n",
    "assert cf.shape == test_xs[0].shape"
   ]
  },
  {
   "cell_type": "markdown",
   "metadata": {},
   "source": [
    "Or generate a bunch of recourse explanations with `jax.vmap`:"
   ]
  },
  {
   "cell_type": "code",
   "execution_count": null,
   "metadata": {},
   "outputs": [
    {
     "data": {
      "application/vnd.jupyter.widget-view+json": {
       "model_id": "36ec403c5dea4962908b562d07198f5c",
       "version_major": 2,
       "version_minor": 0
      },
      "text/plain": [
       "  0%|          | 0/100 [00:00<?, ?it/s]"
      ]
     },
     "metadata": {},
     "output_type": "display_data"
    }
   ],
   "source": [
    "#| output: false\n",
    "generate_fn = ft.partial(vcf.generate_cf, pred_fn=model.pred_fn)\n",
    "cfs = jax.vmap(generate_fn)(test_xs)\n",
    "assert cfs.shape == test_xs.shape"
   ]
  },
  {
   "cell_type": "markdown",
   "metadata": {},
   "source": [
    "## An End-to-End Example of using `ReLax`\n",
    "\n",
    "See [Getting Started with ReLax](https://birkhoffg.github.io/ReLax/tutorials/getting_started.html).\n"
   ]
  },
  {
   "cell_type": "markdown",
   "metadata": {},
   "source": [
    "## Supported Recourse Methods\n",
    "\n",
    "| Method          | Type            | Paper Title                                                                                    | Ref                                     |\n",
    "|-----------------|-----------------|------------------------------------------------------------------------------------------------|-----------------------------------------|\n",
    "| `VanillaCF`     | Non-Parametric  | Counterfactual Explanations without Opening the Black Box: Automated Decisions and the GDPR.   | [[1]](https://arxiv.org/abs/1711.00399) |\n",
    "| `DiverseCF`     | Non-Parametric  | Explaining Machine Learning Classifiers through Diverse Counterfactual Explanations.           | [[2]](https://arxiv.org/abs/1905.07697) |\n",
    "| `ProtoCF`       | Semi-Parametric | Interpretable Counterfactual Explanations Guided by Prototypes.                                | [[3]](https://arxiv.org/abs/1907.02584) |\n",
    "| `CounterNet`    | Parametric      | CounterNet: End-to-End Training of Prediction Aware Counterfactual Explanations.               | [[4]](https://arxiv.org/abs/2109.07557) |\n",
    "| `GrowingSphere` | Non-Parametric  | Inverse Classification for Comparison-based Interpretability in Machine Learning.              | [[5]](https://arxiv.org/abs/1712.08443) |\n",
    "| `CCHVAE`        | Semi-Parametric | Learning Model-Agnostic Counterfactual Explanations for Tabular Data.                          | [[6]](https://arxiv.org/abs/1910.09398) |\n",
    "| `VAECF`         | Parametric      | Preserving Causal Constraints in Counterfactual Explanations for Machine Learning Classifiers. | [[7]](https://arxiv.org/abs/1912.03277) |\n",
    "| `CLUE`          | Semi-Parametric | Getting a CLUE: A Method for Explaining Uncertainty Estimates.                                 | [[8]](https://arxiv.org/abs/2006.06848) |\n",
    "\n",
    ": {tbl-colwidths=\"[17, 13, 65, 5]\"}\n"
   ]
  },
  {
   "attachments": {},
   "cell_type": "markdown",
   "metadata": {},
   "source": [
    "## Citing `ReLax`\n",
    "\n",
    "To cite this repository:\n",
    "\n",
    "```latex\n",
    "@software{relax2023github,\n",
    "  author = {Hangzhi Guo and Xinchang Xiong and Amulya Yadav},\n",
    "  title = {{R}e{L}ax: Recourse Explanation Library in Jax},\n",
    "  url = {http://github.com/birkhoffg/ReLax},\n",
    "  version = {0.1.0},\n",
    "  year = {2023},\n",
    "}\n",
    "```"
   ]
  }
 ],
 "metadata": {
  "kernelspec": {
   "display_name": "python3",
   "language": "python",
   "name": "python3"
  }
 },
 "nbformat": 4,
 "nbformat_minor": 2
}
