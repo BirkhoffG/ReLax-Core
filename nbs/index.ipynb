{
 "cells": [
  {
   "attachments": {},
   "cell_type": "markdown",
   "metadata": {},
   "source": [
    "# ReLax\n",
    "\n",
    "> Recourse Explanation Library in Jax."
   ]
  },
  {
   "attachments": {},
   "cell_type": "markdown",
   "metadata": {},
   "source": [
    "![Python](https://img.shields.io/pypi/pyversions/jax-relax.svg)\n",
    "![CI status](https://github.com/BirkhoffG/jax-relax/actions/workflows/test.yaml/badge.svg)\n",
    "![Docs](https://github.com/BirkhoffG/jax-relax/actions/workflows/deploy.yaml/badge.svg)\n",
    "![pypi](https://img.shields.io/pypi/v/jax-relax.svg)\n",
    "![GitHub License](https://img.shields.io/github/license/BirkhoffG/jax-relax.svg)\n",
    "\n",
    "[**Overview**](#overview) | \n",
    "[**Installation**](#installation) | \n",
    "[**Tutorials**](https://birkhoffg.github.io/ReLax/tutorials/getting_started.html) | \n",
    "[**Documentation**](https://birkhoffg.github.io/ReLax/) | \n",
    "[**Citing ReLax**](#citing-relax) \n"
   ]
  },
  {
   "attachments": {},
   "cell_type": "markdown",
   "metadata": {},
   "source": [
    "## Overview\n",
    "\n",
    "`ReLax` (**Re**course Explanation **L**ibrary in J**ax**) is an efficient and scalable \n",
    "benchmarking library for recourse and counterfactual explanations, built on top of [jax](https://jax.readthedocs.io/en/latest/).\n",
    "By leveraging language primitives such as *vectorization*, *parallelization*, and *just-in-time* compilation in \n",
    "[jax](https://jax.readthedocs.io/en/latest/),\n",
    "`ReLax` offers massive speed improvements in generating individual (or local) explanations\n",
    "for predictions made by Machine Learning algorithms.\n",
    "\n",
    "Some of the key features are as follows:\n",
    "\n",
    "* 🏃 **Fast and scalable** recourse generation.\n",
    "\n",
    "* 🚀 **Accelerated** over `cpu`, `gpu`, `tpu`.\n",
    "\n",
    "* 🪓  **Comprehensive** set of recourse methods implemented for benchmarking.\n",
    "\n",
    "* 👐 **Customizable** API to enable the building of entire modeling and interpretation pipelines for new recourse algorithms."
   ]
  },
  {
   "attachments": {},
   "cell_type": "markdown",
   "metadata": {},
   "source": [
    "## Installation\n",
    "\n",
    "```bash\n",
    "pip install jax-relax\n",
    "# Or install the latest version of `jax-relax`\n",
    "pip install git+https://github.com/BirkhoffG/jax-relax.git \n",
    "```\n",
    "\n",
    "To futher unleash the power of accelerators (i.e., GPU/TPU), \n",
    "we suggest to first install this library via `pip install jax-relax`.\n",
    "Then, follow steps in the [official install guidelines](https://github.com/google/jax#installation)\n",
    "to install the right version for GPU or TPU.\n",
    "\n"
   ]
  },
  {
   "cell_type": "markdown",
   "metadata": {},
   "source": [
    "## Supported Recourse Methods\n",
    "\n",
    "| Type           | Method      | Paper Title                                                                                  | Ref                                     |\n",
    "|----------------|-------------|----------------------------------------------------------------------------------------------|-----------------------------------------|\n",
    "| Non-Parametric | `VanillaCF` | Counterfactual Explanations without Opening the Black Box: Automated Decisions and the GDPR. | [[1]](https://arxiv.org/abs/1711.00399) |\n",
    "| Non-Parametric | `DiverseCF` | Explaining Machine Learning Classifiers through Diverse Counterfactual Explanations.         | [[2]](https://arxiv.org/abs/1905.07697) |\n",
    "\n",
    ": {tbl-colwidths=\"[15, 15, 65, 5]\"}\n"
   ]
  },
  {
   "cell_type": "markdown",
   "metadata": {},
   "source": [
    "## Dive into `ReLax`\n",
    "\n"
   ]
  },
  {
   "cell_type": "markdown",
   "metadata": {},
   "source": [
    "## An End-to-End Example of using `ReLax`\n",
    "\n",
    "See [Getting Started with ReLax](https://birkhoffg.github.io/ReLax/tutorials/getting_started.html).\n"
   ]
  },
  {
   "attachments": {},
   "cell_type": "markdown",
   "metadata": {},
   "source": [
    "## Citing `ReLax`\n",
    "\n",
    "To cite this repository:\n",
    "\n",
    "```latex\n",
    "@software{relax2023github,\n",
    "  author = {Hangzhi Guo and Xinchang Xiong and Amulya Yadav},\n",
    "  title = {{R}e{L}ax: Recourse Explanation Library in Jax},\n",
    "  url = {http://github.com/birkhoffg/ReLax},\n",
    "  version = {0.1.0},\n",
    "  year = {2023},\n",
    "}\n",
    "```"
   ]
  }
 ],
 "metadata": {
  "kernelspec": {
   "display_name": "python3",
   "language": "python",
   "name": "python3"
  }
 },
 "nbformat": 4,
 "nbformat_minor": 2
}
