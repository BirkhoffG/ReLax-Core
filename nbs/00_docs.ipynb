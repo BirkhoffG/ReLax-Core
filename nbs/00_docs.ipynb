{
 "cells": [
  {
   "attachments": {},
   "cell_type": "markdown",
   "metadata": {},
   "source": [
    "# Docs"
   ]
  },
  {
   "cell_type": "code",
   "execution_count": null,
   "metadata": {},
   "outputs": [],
   "source": [
    "#| default_exp docs"
   ]
  },
  {
   "cell_type": "code",
   "execution_count": null,
   "metadata": {},
   "outputs": [],
   "source": [
    "#| hide\n",
    "%load_ext autoreload\n",
    "%autoreload 2\n",
    "from ipynb_path import *\n",
    "import warnings\n",
    "\n",
    "warnings.simplefilter(action='ignore', category=FutureWarning)"
   ]
  },
  {
   "cell_type": "code",
   "execution_count": null,
   "metadata": {},
   "outputs": [
    {
     "name": "stdout",
     "output_type": "stream",
     "text": [
      "Using JAX backend.\n"
     ]
    }
   ],
   "source": [
    "#| export\n",
    "from __future__ import annotations\n",
    "from relax.import_essentials import *\n",
    "import nbdev\n",
    "from fastcore.basics import AttrDict\n",
    "from fastcore.utils import *\n",
    "\n",
    "from nbdev.showdoc import *\n",
    "from nbdev.doclinks import *\n",
    "from inspect import isclass\n",
    "from nbdev.showdoc import (\n",
    "    _ext_link, \n",
    "    _wrap_sig, \n",
    "    _fmt_anno, \n",
    "    _f_name, \n",
    "    DocmentTbl, \n",
    "    _maybe_nm, \n",
    "    _show_param\n",
    ")\n",
    "from nbdev.config import get_config"
   ]
  },
  {
   "cell_type": "code",
   "execution_count": null,
   "metadata": {},
   "outputs": [],
   "source": [
    "#| exporti\n",
    "def _docment_parser(parser: BaseParser):\n",
    "    p = parser.schema()['properties']\n",
    "    if hasattr(parser, '__annotations__'):\n",
    "        anno = parser.__annotations__\n",
    "    else:\n",
    "        anno = { k: inspect._empty for k in p.keys() }\n",
    "    d = { \n",
    "        k: {\n",
    "            'anno': anno[k],\n",
    "            'default': v['default'] if 'default' in v else inspect._empty,\n",
    "            'docment': v['description'] if 'description' in v else inspect._empty,\n",
    "        } for k, v in p.items()\n",
    "    }\n",
    "    \n",
    "\n",
    "    d = AttrDict(d)\n",
    "    return d\n"
   ]
  },
  {
   "cell_type": "code",
   "execution_count": null,
   "metadata": {},
   "outputs": [],
   "source": [
    "#| exporti\n",
    "class ParserMarkdownRenderer(BasicMarkdownRenderer):\n",
    "    def __init__(self, sym, name: str | None = None, title_level: int = 3):\n",
    "        super().__init__(sym, name, title_level)\n",
    "        self.dm.dm = _docment_parser(sym)"
   ]
  },
  {
   "cell_type": "code",
   "execution_count": null,
   "metadata": {},
   "outputs": [],
   "source": [
    "#| exporti\n",
    "def _italic(s: str): return f'<em>{s}</em>' if s.strip() else s\n",
    "\n",
    "def _bold(s: str): return f'<b>{s}</b>' if s.strip() else s"
   ]
  },
  {
   "cell_type": "code",
   "execution_count": null,
   "metadata": {},
   "outputs": [],
   "source": [
    "#| exporti\n",
    "def _show_param(param):\n",
    "    \"Like `Parameter.__str__` except removes: quotes in annos, spaces, ids in reprs\"\n",
    "    kind,res,anno,default = param.kind,param._name,param._annotation,param._default\n",
    "    kind = '*' if kind==inspect._VAR_POSITIONAL else '**' if kind==inspect._VAR_KEYWORD else ''\n",
    "    res = kind+res\n",
    "    # if anno is not inspect._empty: res += f':{_f_name(anno) or _fmt_anno(anno)}'\n",
    "    if default is not inspect._empty: res += f'={_f_name(default) or repr(default)}'\n",
    "    return res\n",
    "\n",
    "\n",
    "def _fmt_sig(sig):\n",
    "    if sig is None: return ''\n",
    "    p = {k:v for k,v in sig.parameters.items()}\n",
    "    _params = [_show_param(p[k]) for k in p.keys() if k != 'self']\n",
    "    return \"(\" + ', '.join(_params)  + \")\"\n"
   ]
  },
  {
   "cell_type": "code",
   "execution_count": null,
   "metadata": {},
   "outputs": [],
   "source": [
    "#| exporti\n",
    "def _inner_list2mdlist(l: list):\n",
    "    param_name, param_anno, param_default, param_doc = l\n",
    "    # annotation\n",
    "    if param_anno == inspect._empty: param_anno = None\n",
    "    else: param_anno = f\"`{param_anno}`\"\n",
    "    # default value\n",
    "    if param_default == inspect._empty: param_default = None\n",
    "    else: param_default = _italic(f\"default={param_default}\")\n",
    "\n",
    "    mdoc = \"\"\n",
    "    if param_anno and param_default:\n",
    "        mdoc += f\"* {_bold(param_name)} ({param_anno}, {param_default})\"\n",
    "    elif param_anno:\n",
    "        mdoc += f\"* {_bold(param_name)} ({param_anno})\"\n",
    "    elif param_default:\n",
    "        mdoc += f\"* {_bold(param_name)} ({param_default})\"\n",
    "    else:\n",
    "        mdoc += f\"* {_bold(param_name)}\"\n",
    "    \n",
    "    if not (param_doc == inspect._empty): \n",
    "        mdoc += f\" -- {param_doc}\"\n",
    "    return mdoc\n",
    "\n",
    "def _params_mdlist(tbl: DocmentTbl):\n",
    "    param_list = [\n",
    "        L([k, v['anno'], v['default'], v['docment']])\n",
    "        for k, v in tbl.dm.items() if k != 'return'\n",
    "    ]\n",
    "    # param_list = tbl._row_list\n",
    "    return L(param_list).map(_inner_list2mdlist)\n",
    "\n",
    "def _return_mdlist(tbl: DocmentTbl):\n",
    "    return_list = [tbl.dm['return'][k] for k in ['anno', 'default', 'docment']]\n",
    "    param_anno, param_default, param_doc = return_list\n",
    "    mdoc = \"\"\n",
    "    if not param_anno == inspect._empty: \n",
    "        mdoc += f\"(`{param_anno}`)\"\n",
    "    if param_doc != inspect._empty:\n",
    "        mdoc += f\" -- {param_doc}\"\n",
    "    return mdoc\n",
    "\n",
    "def _show_params_return(tbl: DocmentTbl):\n",
    "    if not tbl.has_docment: return ''\n",
    "    doc = \"\" \n",
    "    doc = \"::: {#docs}\\n\\n\"\n",
    "    doc += '**Parameters:**' + '\\n\\n\\n\\n'\n",
    "    doc += _params_mdlist(tbl)\n",
    "    doc += \"\\n\\n:::\\n\\n\"\n",
    "    if tbl.has_return:\n",
    "        doc += \"::: {#docs}\\n\\n\"\n",
    "        doc += '\\n\\n**Returns:**\\n'\n",
    "        doc += f\"&ensp;&ensp;&ensp;&ensp;{_return_mdlist(tbl)}\"\n",
    "        doc += \"\\n\\n:::\"\n",
    "    \n",
    "    return '\\n'.join(doc)"
   ]
  },
  {
   "cell_type": "code",
   "execution_count": null,
   "metadata": {},
   "outputs": [],
   "source": [
    "#| export\n",
    "class ListDocment:\n",
    "    def __init__(self, tbl: DocmentTbl):\n",
    "        self.tbl = tbl\n",
    "    \n",
    "    def _repre_mardown(self):\n",
    "        return _show_params_return(self.tbl)\n",
    "\n",
    "    __str__ = _repre_mardown"
   ]
  },
  {
   "cell_type": "code",
   "execution_count": null,
   "metadata": {},
   "outputs": [],
   "source": [
    "#| export\n",
    "def _repr_markdown(\n",
    "    renderer: ShowDocRenderer,\n",
    "    use_module_dir: bool,\n",
    "    show_title: bool,\n",
    "    is_class: bool,\n",
    "    title_level: int = 3,\n",
    "):\n",
    "    doc = \"\"\n",
    "    src = NbdevLookup().code(renderer.fn)\n",
    "    _look_up = NbdevLookup()[renderer.fn]\n",
    "    module_dir = _look_up[1].replace('.py', '').replace('/', '.') + '.' if _look_up else \"\"\n",
    "    link = _ext_link(src, '[source]', 'style=\"float:right; font-size:smaller\"') + '\\n\\n' if src else \"\"\n",
    "    \n",
    "    name = f\"{module_dir}{_bold(renderer.nm)}\" if use_module_dir else _bold(renderer.nm)\n",
    "\n",
    "    # title\n",
    "    if show_title:\n",
    "        h = f'h{title_level}'\n",
    "        doc += f\"\"\"<{h} class=\"doc-title\" id=\"{renderer.nm}\">{name}</{h}>\"\"\"\n",
    "    # signature\n",
    "    doc += link\n",
    "    if is_class: doc += '::: {.doc-sig}\\n\\n class '\n",
    "    else: doc += '::: {.doc-sig}\\n\\n '\n",
    "    doc += f\"{name} {_italic(_fmt_sig(renderer.sig))}\\n\\n:::\"\n",
    "    # docs\n",
    "    if renderer.docs: doc += f\"\\n\\n{renderer.docs}\"\n",
    "    # params and return\n",
    "    if renderer.dm.has_docment:\n",
    "        doc += f\"\\n\\n{ListDocment(renderer.dm)}\"\n",
    "    return doc\n"
   ]
  },
  {
   "cell_type": "code",
   "execution_count": null,
   "metadata": {},
   "outputs": [],
   "source": [
    "#| export\n",
    "class CustomizedMarkdownRenderer(ShowDocRenderer):\n",
    "    \"\"\"Displaying documents of functions, classes, `haiku.module`, and `BaseParser`.\"\"\"\n",
    "    \n",
    "    def __init__(self, sym, name:str|None=None, title_level:int=3):\n",
    "        super().__init__(sym, name, title_level)\n",
    "        self.isclass = inspect.isclass(sym)\n",
    "        self.hook_methods(sym)\n",
    "        self._check_sym(sym)\n",
    "\n",
    "    def hook_methods(self, sym):\n",
    "        self.methods = []\n",
    "        if self.isclass and hasattr(sym, '__ALL__'):\n",
    "            all_methods_syms = [\n",
    "                getattr(sym, x) for x in sym.__ALL__\n",
    "            ]\n",
    "            self.methods = [ShowDocRenderer(x) for x in all_methods_syms]\n",
    "\n",
    "    def _check_sym(self, sym):\n",
    "       \n",
    "        if self.isclass:\n",
    "            # extract annotations for pydantic models\n",
    "            if issubclass(sym, BaseParser):\n",
    "                self.dm.dm = _docment_parser(sym)\n",
    "            # extract annotations for hk.Module\n",
    "            # if issubclass(sym, hk.Module):\n",
    "            #     _sym = sym.__init__\n",
    "            #     try: self.sig = signature_ex(_sym, eval_str=True)\n",
    "            #     except (ValueError,TypeError): self.sig = None\n",
    "            #     self.dm = DocmentTbl(_sym)\n",
    "\n",
    "    def _repr_markdown_(self):\n",
    "        doc = _repr_markdown(\n",
    "            self,\n",
    "            use_module_dir=True,\n",
    "            show_title=True,\n",
    "            is_class=self.isclass,\n",
    "            title_level=self.title_level + 1,\n",
    "        )\n",
    "        if self.methods:\n",
    "            doc += '\\n\\n' \n",
    "            doc += '\\n\\n'.join([\n",
    "                _repr_markdown(\n",
    "                    x, use_module_dir=False,\n",
    "                    show_title=False, is_class=False,\n",
    "                ) \n",
    "                for x in self.methods])\n",
    "            \n",
    "        return doc"
   ]
  },
  {
   "attachments": {},
   "cell_type": "markdown",
   "metadata": {},
   "source": [
    "`CustomizedMarkdownRenderer` is the customized \n",
    "markdown render for the `ReLax` documentation site.\n",
    "We can use it to displaying documents of functions, classes,\n",
    "`haiku.module`, and `BaseParser`.\n",
    "\n",
    "We can display documentations for **functions**:"
   ]
  },
  {
   "cell_type": "code",
   "execution_count": null,
   "metadata": {},
   "outputs": [
    {
     "data": {
      "text/markdown": [
       "<h4 class=\"doc-title\" id=\"validate_config\"><b>validate_config</b></h4>::: {.doc-sig}\n",
       "\n",
       " <b>validate_config</b> <em>(configs, config_cls)</em>\n",
       "\n",
       ":::\n",
       "\n",
       "Return a valid configuration object.\n",
       "\n",
       "::: {#docs}\n",
       "\n",
       "**Parameters:**\n",
       "\n",
       "\n",
       "\n",
       "\n",
       "* <b>configs</b> (`Dict | BaseParser`) -- A configuration of the model/data.\n",
       "* <b>config_cls</b> (`BaseParser`) -- The desired configuration class.\n",
       "\n",
       "\n",
       ":::\n",
       "\n",
       "\n",
       "::: {#docs}\n",
       "\n",
       "\n",
       "\n",
       "\n",
       "**Returns:**\n",
       "\n",
       "&ensp;&ensp;&ensp;&ensp;(`BaseParser`)\n",
       "\n",
       "\n",
       ":::"
      ],
      "text/plain": [
       "<__main__.CustomizedMarkdownRenderer>"
      ]
     },
     "execution_count": null,
     "metadata": {},
     "output_type": "execute_result"
    }
   ],
   "source": [
    "def validate_config(\n",
    "    configs: Dict|BaseParser, # A configuration of the model/data.\n",
    "    config_cls: BaseParser # The desired configuration class.\n",
    ") -> BaseParser:\n",
    "    \"\"\"Return a valid configuration object.\"\"\"\n",
    "    ...\n",
    "\n",
    "CustomizedMarkdownRenderer(validate_config)"
   ]
  },
  {
   "attachments": {},
   "cell_type": "markdown",
   "metadata": {},
   "source": [
    "---\n",
    "\n",
    "We can display documentations for **classes**: "
   ]
  },
  {
   "cell_type": "code",
   "execution_count": null,
   "metadata": {},
   "outputs": [
    {
     "data": {
      "text/markdown": [
       "<h4 class=\"doc-title\" id=\"VanillaCF\"><b>VanillaCF</b></h4>::: {.doc-sig}\n",
       "\n",
       " class <b>VanillaCF</b> <em>(configs=None)</em>\n",
       "\n",
       ":::\n",
       "\n",
       "VanillaCF Explanation of the model.\n",
       "\n",
       "::: {#docs}\n",
       "\n",
       "**Parameters:**\n",
       "\n",
       "\n",
       "\n",
       "\n",
       "* <b>configs</b> (`Dict | BaseParser`, <em>default=None</em>) -- A configuration of the model.\n",
       "\n",
       "\n",
       ":::\n",
       "\n"
      ],
      "text/plain": [
       "<__main__.CustomizedMarkdownRenderer>"
      ]
     },
     "execution_count": null,
     "metadata": {},
     "output_type": "execute_result"
    }
   ],
   "source": [
    "class VanillaCF:\n",
    "    \"\"\"VanillaCF Explanation of the model.\"\"\"\n",
    "\n",
    "    def __init__(\n",
    "        self, \n",
    "        configs: Dict|BaseParser=None # A configuration of the model.\n",
    "    ): ...\n",
    "CustomizedMarkdownRenderer(VanillaCF)"
   ]
  },
  {
   "attachments": {},
   "cell_type": "markdown",
   "metadata": {},
   "source": [
    "---\n",
    "We can display documentations for **BaseParser**: "
   ]
  },
  {
   "cell_type": "code",
   "execution_count": null,
   "metadata": {},
   "outputs": [
    {
     "data": {
      "text/markdown": [
       "<h4 class=\"doc-title\" id=\"VanillaCFConfig\"><b>VanillaCFConfig</b></h4>::: {.doc-sig}\n",
       "\n",
       " class <b>VanillaCFConfig</b> <em>()</em>\n",
       "\n",
       ":::\n",
       "\n",
       "Configuration for the `Model`."
      ],
      "text/plain": [
       "<__main__.CustomizedMarkdownRenderer>"
      ]
     },
     "execution_count": null,
     "metadata": {},
     "output_type": "execute_result"
    }
   ],
   "source": [
    "class VanillaCFConfig(BaseParser):\n",
    "    \"\"\"Configuration for the `Model`.\"\"\"\n",
    "    pass\n",
    "\n",
    "CustomizedMarkdownRenderer(VanillaCFConfig)"
   ]
  },
  {
   "cell_type": "code",
   "execution_count": null,
   "metadata": {},
   "outputs": [
    {
     "data": {
      "text/markdown": [
       "<h4 class=\"doc-title\" id=\"VanillaCFConfig\"><b>VanillaCFConfig</b></h4>::: {.doc-sig}\n",
       "\n",
       " class <b>VanillaCFConfig</b> <em>(lr=0.001, n_steps=100)</em>\n",
       "\n",
       ":::\n",
       "\n",
       "Configuration for the `Model`.\n",
       "\n",
       "::: {#docs}\n",
       "\n",
       "**Parameters:**\n",
       "\n",
       "\n",
       "\n",
       "\n",
       "* <b>lr</b> (`float`, <em>default=0.001</em>) -- Learning rate.\n",
       "* <b>n_steps</b> (`int`, <em>default=100</em>) -- Number of iteration steps.\n",
       "\n",
       "\n",
       ":::\n",
       "\n"
      ],
      "text/plain": [
       "<__main__.CustomizedMarkdownRenderer>"
      ]
     },
     "execution_count": null,
     "metadata": {},
     "output_type": "execute_result"
    }
   ],
   "source": [
    "class VanillaCFConfig(BaseParser):\n",
    "    \"\"\"Configuration for the `Model`.\"\"\"\n",
    "\n",
    "    lr: float = Field(1e-3, description=\"Learning rate.\")\n",
    "    n_steps: int = Field(100, description=\"Number of iteration steps.\")\n",
    "\n",
    "CustomizedMarkdownRenderer(VanillaCFConfig)"
   ]
  }
 ],
 "metadata": {
  "kernelspec": {
   "display_name": "python3",
   "language": "python",
   "name": "python3"
  }
 },
 "nbformat": 4,
 "nbformat_minor": 2
}
