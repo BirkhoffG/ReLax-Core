{
 "cells": [
  {
   "cell_type": "markdown",
   "metadata": {},
   "source": [
    "# Transformation"
   ]
  },
  {
   "cell_type": "code",
   "execution_count": null,
   "metadata": {},
   "outputs": [],
   "source": [
    "#| default_exp data_utils.transform"
   ]
  },
  {
   "cell_type": "code",
   "execution_count": null,
   "metadata": {},
   "outputs": [],
   "source": [
    "#| hide\n",
    "%load_ext autoreload\n",
    "%autoreload 2\n",
    "from ipynb_path import *\n",
    "import warnings\n",
    "\n",
    "warnings.simplefilter(action='ignore', category=FutureWarning)"
   ]
  },
  {
   "cell_type": "code",
   "execution_count": null,
   "metadata": {},
   "outputs": [],
   "source": [
    "#| export\n",
    "from __future__ import annotations\n",
    "from relax.data_utils.preprocessing import *\n",
    "from relax.import_essentials import *"
   ]
  },
  {
   "cell_type": "code",
   "execution_count": null,
   "metadata": {},
   "outputs": [],
   "source": [
    "#| hide\n",
    "import sklearn.preprocessing as skp\n",
    "from fastcore.test import test_fail\n",
    "from copy import deepcopy"
   ]
  },
  {
   "cell_type": "code",
   "execution_count": null,
   "metadata": {},
   "outputs": [],
   "source": [
    "#| export\n",
    "class Transformation:\n",
    "    def __init__(self, name, transformer: DataPreprocessor = None):\n",
    "        self.name = name\n",
    "        self.transformer = transformer\n",
    "\n",
    "    @property\n",
    "    def is_categorical(self) -> bool:\n",
    "        if self.transformer is None:\n",
    "            return False\n",
    "        return isinstance(self.transformer, EncoderPreprocessor)\n",
    "\n",
    "    def fit(self, xs, y=None):\n",
    "        self.transformer.fit(xs)\n",
    "        return self\n",
    "    \n",
    "    def transform(self, xs):\n",
    "        return self.transformer.transform(xs)\n",
    "\n",
    "    def fit_transform(self, xs, y=None):\n",
    "        return self.transformer.fit_transform(xs)\n",
    "    \n",
    "    def inverse_transform(self, xs):\n",
    "        return self.transformer.inverse_transform(xs)\n",
    "\n",
    "    def apply_constraints(\n",
    "        self, \n",
    "        xs: jax.Array, \n",
    "        cfs: jax.Array, \n",
    "        hard: bool = False, \n",
    "        rng_key: jax.random.PRNGKey = None, \n",
    "        **kwargs\n",
    "    ):\n",
    "        return cfs\n",
    "    \n",
    "    def compute_reg_loss(self, xs, cfs, hard: bool = False):\n",
    "        return 0.\n",
    "    \n",
    "    def from_dict(self, params: dict):\n",
    "        self.name = params[\"name\"]\n",
    "        self.transformer.from_dict(params[\"transformer\"])\n",
    "        return self\n",
    "    \n",
    "    def to_dict(self) -> dict:\n",
    "        return {\"name\": self.name, \"transformer\": self.transformer.to_dict()}"
   ]
  }
 ],
 "metadata": {
  "kernelspec": {
   "display_name": "python3",
   "language": "python",
   "name": "python3"
  }
 },
 "nbformat": 4,
 "nbformat_minor": 2
}
