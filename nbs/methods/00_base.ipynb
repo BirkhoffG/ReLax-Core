{
 "cells": [
  {
   "cell_type": "code",
   "execution_count": null,
   "metadata": {},
   "outputs": [],
   "source": [
    "#| default_exp methods.base"
   ]
  },
  {
   "cell_type": "code",
   "execution_count": null,
   "metadata": {},
   "outputs": [],
   "source": [
    "#| export\n",
    "from relax.import_essentials import *\n",
    "from relax.base import BaseConfig, BaseModule, PredFnMixedin, TrainableMixedin"
   ]
  },
  {
   "cell_type": "code",
   "execution_count": null,
   "metadata": {},
   "outputs": [],
   "source": [
    "#| export\n",
    "class CFModule(BaseModule):\n",
    "    \"\"\"Base class for all counterfactual modules.\"\"\"\n",
    "\n",
    "    def __init__(\n",
    "        self, \n",
    "        config,\n",
    "        *, \n",
    "        name: str = None,\n",
    "        apply_constraints_fn = None,\n",
    "        apply_regularization_fn = None\n",
    "    ):\n",
    "        super().__init__(config, name=name)\n",
    "        self.apply_constraints_fn = apply_constraints_fn\n",
    "        self.apply_regularization_fn = apply_regularization_fn\n",
    "\n",
    "    def init_apply_fns(\n",
    "        self,\n",
    "        apply_constraints_fn = None,\n",
    "        apply_regularization_fn = None\n",
    "    ):\n",
    "        if self.apply_constraints_fn is None and apply_constraints_fn is not None:\n",
    "            self.apply_constraints_fn = apply_constraints_fn\n",
    "        if self.apply_regularization_fn is None and apply_regularization_fn is not None:\n",
    "            self.apply_regularization_fn = apply_regularization_fn\n",
    "    \n",
    "    def apply_constraints(self, *args, **kwargs):\n",
    "        if self.apply_constraints_fn is not None:\n",
    "            self.apply_constraints_fn(*args, **kwargs)\n",
    "    \n",
    "    def apply_regularization(self, *args, **kwargs):\n",
    "        if self.apply_regularization_fn is not None:\n",
    "            self.apply_regularization_fn(*args, **kwargs)\n",
    "\n",
    "    def generate_cf(\n",
    "        self,\n",
    "        x: Array,\n",
    "        pred_fn: Callable = None,\n",
    "        pred_fn_args: Dict = None,\n",
    "    ) -> Array: # Return counterfactual of x.\n",
    "        raise NotImplementedError"
   ]
  },
  {
   "cell_type": "code",
   "execution_count": null,
   "metadata": {},
   "outputs": [],
   "source": [
    "#| export\n",
    "class ParametricCFModule(CFModule, TrainableMixedin):\n",
    "    \"\"\"Base class for parametric counterfactual modules.\"\"\"\n",
    "    pass"
   ]
  }
 ],
 "metadata": {
  "kernelspec": {
   "display_name": "python3",
   "language": "python",
   "name": "python3"
  }
 },
 "nbformat": 4,
 "nbformat_minor": 2
}
