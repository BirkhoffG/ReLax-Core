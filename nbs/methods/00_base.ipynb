{
 "cells": [
  {
   "cell_type": "code",
   "execution_count": null,
   "metadata": {},
   "outputs": [],
   "source": [
    "#| default_exp methods.base"
   ]
  },
  {
   "cell_type": "code",
   "execution_count": null,
   "metadata": {},
   "outputs": [],
   "source": [
    "#| export\n",
    "from relax.import_essentials import *\n",
    "from relax.base import BaseConfig, BaseModule, PredFnMixedin, TrainableMixedin"
   ]
  },
  {
   "cell_type": "code",
   "execution_count": null,
   "metadata": {},
   "outputs": [],
   "source": [
    "#| exporti\n",
    "def default_apply_constraints_fn(x, cf, hard, **kwargs):\n",
    "    return cf\n",
    "\n",
    "def default_compute_reg_loss_fn(x, cf, **kwargs):\n",
    "    return 0."
   ]
  },
  {
   "cell_type": "code",
   "execution_count": null,
   "metadata": {},
   "outputs": [],
   "source": [
    "#| export\n",
    "class CFModule(BaseModule):\n",
    "    \"\"\"Base class for all counterfactual modules.\"\"\"\n",
    "\n",
    "    def __init__(\n",
    "        self, \n",
    "        config,\n",
    "        *, \n",
    "        name: str = None,\n",
    "        apply_constraints_fn = None,\n",
    "        compute_reg_loss_fn = None,\n",
    "        **kwargs\n",
    "    ):\n",
    "        super().__init__(config, name=name)\n",
    "        self._apply_constraints_fn = apply_constraints_fn\n",
    "        self._compute_reg_loss_fn = compute_reg_loss_fn\n",
    "        self.data_module = None\n",
    "\n",
    "    def set_data_module(self, data_module):\n",
    "        self.data_module = data_module\n",
    "\n",
    "    def set_apply_constraints_fn(self, apply_constraints_fn: Callable):\n",
    "        self._apply_constraints_fn = apply_constraints_fn\n",
    "\n",
    "    def set_compute_reg_loss_fn(self, compute_reg_loss_fn: Callable):\n",
    "        self._compute_reg_loss_fn = compute_reg_loss_fn\n",
    "    \n",
    "    def apply_constraints(self, *args, **kwargs) -> Array:\n",
    "        if self._apply_constraints_fn is not None:\n",
    "            return self._apply_constraints_fn(*args, **kwargs)\n",
    "        else:\n",
    "            return default_apply_constraints_fn(*args, **kwargs)\n",
    "    \n",
    "    def compute_reg_loss(self, *args, **kwargs):\n",
    "        if self._compute_reg_loss_fn is not None:\n",
    "            return self._compute_reg_loss_fn(*args, **kwargs)\n",
    "        else:\n",
    "            return default_compute_reg_loss_fn(*args, **kwargs)\n",
    "\n",
    "    def before_generate_cf(self, *args, **kwargs):\n",
    "        pass\n",
    "\n",
    "    def generate_cf(\n",
    "        self,\n",
    "        x: Array,\n",
    "        pred_fn: Callable = None,\n",
    "        y_target: Array = None,\n",
    "        rng_key: jrand.PRNGKey = None,\n",
    "        **kwargs\n",
    "    ) -> Array: # Return counterfactual of x.\n",
    "        raise NotImplementedError\n",
    "    \n",
    "    __ALL__ = [\n",
    "        \"set_apply_constraints_fn\",\n",
    "        \"set_compute_reg_loss_fn\",\n",
    "        \"apply_constraints\",\n",
    "        \"compute_reg_loss\",\n",
    "        \"before_generate_cf\",\n",
    "        \"generate_cf\"\n",
    "    ]"
   ]
  },
  {
   "cell_type": "code",
   "execution_count": null,
   "metadata": {},
   "outputs": [],
   "source": [
    "#| export\n",
    "class ParametricCFModule(CFModule, TrainableMixedin):\n",
    "    \"\"\"Base class for parametric counterfactual modules.\"\"\"\n",
    "    \n",
    "    def train(self, data, pred_fn, **kwargs):\n",
    "        \"\"\"Train the module.\"\"\"\n",
    "        raise NotImplementedError"
   ]
  }
 ],
 "metadata": {
  "kernelspec": {
   "display_name": "python3",
   "language": "python",
   "name": "python3"
  }
 },
 "nbformat": 4,
 "nbformat_minor": 2
}
