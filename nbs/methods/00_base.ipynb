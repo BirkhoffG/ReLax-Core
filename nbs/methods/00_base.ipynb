{
 "cells": [
  {
   "cell_type": "code",
   "execution_count": null,
   "metadata": {},
   "outputs": [],
   "source": [
    "#| default_exp methods.base"
   ]
  },
  {
   "cell_type": "code",
   "execution_count": null,
   "metadata": {},
   "outputs": [],
   "source": [
    "#| export\n",
    "from relax.import_essentials import *\n",
    "from relax.base import BaseConfig, BaseModule, PredFnMixedin, TrainableMixedin"
   ]
  },
  {
   "cell_type": "code",
   "execution_count": null,
   "metadata": {},
   "outputs": [],
   "source": [
    "#| export\n",
    "def default_apply_constraints_fn(x, cf, hard, **kwargs):\n",
    "    return cf\n",
    "\n",
    "def default_compute_reg_loss_fn(x, cf, **kwargs):\n",
    "    return 0."
   ]
  },
  {
   "cell_type": "code",
   "execution_count": null,
   "metadata": {},
   "outputs": [],
   "source": [
    "#| export\n",
    "class CFModule(BaseModule):\n",
    "    \"\"\"Base class for all counterfactual modules.\"\"\"\n",
    "\n",
    "    def __init__(\n",
    "        self, \n",
    "        config,\n",
    "        *, \n",
    "        name: str = None,\n",
    "        apply_constraints_fn = None,\n",
    "        compute_reg_loss_fn = None\n",
    "    ):\n",
    "        super().__init__(config, name=name)\n",
    "        self.apply_constraints_fn = apply_constraints_fn\n",
    "        self.compute_reg_loss_fn = compute_reg_loss_fn\n",
    "\n",
    "    def init_fns(\n",
    "        self,\n",
    "        apply_constraints_fn = None,\n",
    "        compute_reg_loss_fn = None\n",
    "    ):\n",
    "        if self.apply_constraints_fn is None and apply_constraints_fn is not None:\n",
    "            self.apply_constraints_fn = apply_constraints_fn\n",
    "        else:\n",
    "            self.apply_constraints_fn = default_apply_constraints_fn\n",
    "        if self.compute_reg_loss_fn is None and compute_reg_loss_fn is not None:\n",
    "            self.compute_reg_loss_fn = compute_reg_loss_fn\n",
    "        else:\n",
    "            self.compute_reg_loss_fn = default_compute_reg_loss_fn\n",
    "    \n",
    "    def apply_constraints(self, *args, **kwargs):\n",
    "        if self.apply_constraints_fn is not None:\n",
    "            self.apply_constraints_fn(*args, **kwargs)\n",
    "    \n",
    "    def compute_reg_loss(self, *args, **kwargs):\n",
    "        if self.compute_reg_loss_fn is not None:\n",
    "            self.compute_reg_loss_fn(*args, **kwargs)\n",
    "\n",
    "    def generate_cf(\n",
    "        self,\n",
    "        x: Array,\n",
    "        pred_fn: Callable = None,\n",
    "        y_target: Array = None,\n",
    "        rng_key: jrand.PRNGKey = None,\n",
    "        **kwargs\n",
    "    ) -> Array: # Return counterfactual of x.\n",
    "        raise NotImplementedError"
   ]
  },
  {
   "cell_type": "code",
   "execution_count": null,
   "metadata": {},
   "outputs": [],
   "source": [
    "#| export\n",
    "class ParametricCFModule(CFModule, TrainableMixedin):\n",
    "    \"\"\"Base class for parametric counterfactual modules.\"\"\"\n",
    "    pass"
   ]
  }
 ],
 "metadata": {
  "kernelspec": {
   "display_name": "python3",
   "language": "python",
   "name": "python3"
  }
 },
 "nbformat": 4,
 "nbformat_minor": 2
}
