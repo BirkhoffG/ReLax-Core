{
 "cells": [
  {
   "cell_type": "markdown",
   "metadata": {},
   "source": [
    "# `ReLax` as a Recourse Library\n"
   ]
  },
  {
   "cell_type": "markdown",
   "metadata": {},
   "source": [
    "`ReLax` is a recourse explanation library which provides implementations of various recourse methods.\n",
    "In other words, you can use implemented methods in `ReLax` without relying on the entire pipeline of `ReLax`.\n",
    "\n",
    "At a high level, you can use the implemented methods in `ReLax` to generate a recourse explanation via three lines of code:\n",
    "\n",
    "```python\n",
    "from relax.methods import VanillaCF\n",
    "\n",
    "vcf = VanillaCF()\n",
    "# x is one data point. Shape: `(K)` or `(1, K)`\n",
    "cf = vcf.generate_cf(x, pred_fn=pred_fn)\n",
    "```\n",
    "\n",
    "Or generate a batch of recourse explanation via the `jax.vmap` primitive:\n",
    "\n",
    "```python\n",
    "...\n",
    "import functools as ft\n",
    "\n",
    "generate_fn = ft.partial(vcf.generate_cf, pred_fn=pred_fn)\n",
    "# xs is a batched data. Shape: `(N, K)`\n",
    "cfs = jax.vmap(generate_fn)(xs)\n",
    "```"
   ]
  }
 ],
 "metadata": {
  "kernelspec": {
   "display_name": "python3",
   "language": "python",
   "name": "python3"
  }
 },
 "nbformat": 4,
 "nbformat_minor": 2
}
