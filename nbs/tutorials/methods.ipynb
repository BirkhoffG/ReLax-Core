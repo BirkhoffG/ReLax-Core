{
 "cells": [
  {
   "cell_type": "markdown",
   "metadata": {},
   "source": [
    "# `ReLax` as a Recourse Library\n"
   ]
  },
  {
   "cell_type": "markdown",
   "metadata": {},
   "source": [
    "`ReLax` contains implementations of various recourse methods, which are decoupled from the rest of `ReLax` library.\n",
    "We give users flexibility on how to use `ReLax`: \n",
    "\n",
    "* You can use the recourse pipeline in `ReLax` (\"one-liner\" for easy benchmarking recourse methods; see this [tutorial](getting_started.ipynb)).\n",
    "* You can use all of the recourse methods in `ReLax` without relying on the entire pipeline of `ReLax`.\n",
    "\n",
    "In this tutorial, we uncover the possibility of the second option by using recourse methods under `relax.methods` \n",
    "for debugging, diagnoising, interpreting your JAX models.\n"
   ]
  },
  {
   "cell_type": "markdown",
   "metadata": {},
   "source": [
    "## Types of Recourse Methods\n",
    "\n",
    "TODO: Describe the difference between non-parametric, semi-parametric, and parametric methods. \n",
    "What it means conceptually (text and formula), and what it means in terms of code \n",
    "(e.g., parametric methods inherites `ParametricCFModule`). \n",
    "\n",
    "TODO: Include a table to describe the difference."
   ]
  },
  {
   "cell_type": "markdown",
   "metadata": {},
   "source": [
    "## Basis \n",
    "\n",
    "At a high level, you can use the implemented methods in `ReLax` to generate *one* recourse explanation via three lines of code:\n",
    "\n",
    "```python\n",
    "from relax.methods import VanillaCF\n",
    "\n",
    "vcf = VanillaCF()\n",
    "# x is one data point. Shape: `(K)` or `(1, K)`\n",
    "cf = vcf.generate_cf(x, pred_fn=pred_fn)\n",
    "```\n",
    "\n",
    "Or generate a batch of recourse explanation via the `jax.vmap` primitive:\n",
    "\n",
    "```python\n",
    "...\n",
    "import functools as ft\n",
    "\n",
    "vcf_gen_fn = ft.partial(vcf.generate_cf, pred_fn=pred_fn)\n",
    "# xs is a batched data. Shape: `(N, K)`\n",
    "cfs = jax.vmap(vcf_gen_fn)(xs)\n",
    "```\n",
    "\n",
    "TODO: Also show examples of using parametric methods (using `CCHVAE` as an example)."
   ]
  },
  {
   "cell_type": "markdown",
   "metadata": {},
   "source": [
    "## Config Recourse Methods\n",
    "\n",
    "TODO: Refer to [this link](https://birkhoffg.github.io/jax-relax/tutorials/getting_started.html#load-dataset-with-datamodule)\n",
    "on how config works in `ReLax`. It is similar on how to config recourse methods here."
   ]
  }
 ],
 "metadata": {
  "kernelspec": {
   "display_name": "python3",
   "language": "python",
   "name": "python3"
  }
 },
 "nbformat": 4,
 "nbformat_minor": 2
}
