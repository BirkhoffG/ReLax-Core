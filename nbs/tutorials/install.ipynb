{
 "cells": [
  {
   "attachments": {},
   "cell_type": "markdown",
   "metadata": {},
   "source": [
    "# Installation\n",
    "\n",
    "> A tutorial on installing `ReLax`"
   ]
  },
  {
   "attachments": {},
   "cell_type": "markdown",
   "metadata": {},
   "source": [
    ":::{.callout-tip}\n",
    "TL;DR: Install `ReLax` via the [Python Package Index](https://pypi.org/project/jax-relax/):\n",
    "\n",
    "```sh\n",
    "pip install -U jax-relax\n",
    "```\n",
    ":::\n"
   ]
  },
  {
   "attachments": {},
   "cell_type": "markdown",
   "metadata": {},
   "source": [
    ":::{.callout-warning}\n",
    "\n",
    "`ReLax` supports various platforms, thanks to efforts from developers of [JAX](https://jax.readthedocs.io/en/latest/index.html). \n",
    "See the compatible platforms of [JAX](https://jax.readthedocs.io/en/latest/installation.html).\n",
    "\n",
    ":::"
   ]
  },
  {
   "attachments": {},
   "cell_type": "markdown",
   "metadata": {},
   "source": [
    "## Installing `ReLax`\n",
    "\n",
    ":::{.callout-note}\n",
    "We suggest to create a new environment when using `ReLax`.\n",
    "\n",
    "If you are using `conda`, you can create a new environment by:\n",
    "```sh\n",
    "conda create -n relax python=3.9 -y\n",
    "conda activate relax\n",
    "```\n",
    ":::\n",
    "\n",
    "`ReLax` is built on top of [JAX](https://jax.readthedocs.io/en/latest/index.html). \n",
    "You should also check the  official \n",
    "[installation guide](https://jax.readthedocs.io/en/latest/installation.html) from the Jax team. \n",
    "\n",
    "#### Running on CPU\n",
    "If you only need to run relax on CPU, you can simply install via pip or clone the GitHub project.\n",
    "\n",
    "Installation via PyPI:\n",
    "\n",
    "```bash\n",
    "pip install --upgrade pip\n",
    "pip install --upgrade jax-relax\n",
    "```\n",
    "\n",
    "Editable Install:\n",
    "\n",
    "```bash\n",
    "# Clone the ReLax Repository\n",
    "git clone https://github.com/BirkhoffG/jax-relax.git\n",
    "cd jax-relax\n",
    "# Clone the submodule\n",
    "git submodule update --init --recursive\n",
    "pip install -e .\n",
    "```\n",
    "\n",
    "#### Running on GPU or TPU\n",
    "\n",
    ":::{.callout-warning}\n",
    "We do not run continuous integration (CI) for GPU and TPU environments.\n",
    "So `ReLax` might fail unexpectedly when running on GPU/TPU.\n",
    "If you encounter issues when running on GPU/TPU, \n",
    "please [report to us](https://github.com/BirkhoffG/jax-relax/issues/new).\n",
    ":::\n",
    "\n",
    "If you wish to run relax on GPU or TPU, \n",
    "please first install this library via `pip install jax-relax`.\n",
    "\n",
    "Then, you should install the right GPU or TPU version of JAX by following steps in the \n",
    "[install guidelines](https://github.com/google/jax#installation).\n",
    "\n"
   ]
  },
  {
   "attachments": {},
   "cell_type": "markdown",
   "metadata": {},
   "source": [
    "#### Contributor of `ReLax`\n",
    "\n",
    "See [nbdev installation](https://nbdev.fast.ai/tutorials/tutorial.html#install-quarto).\n"
   ]
  }
 ],
 "metadata": {
  "kernelspec": {
   "display_name": "python3",
   "language": "python",
   "name": "python3"
  }
 },
 "nbformat": 4,
 "nbformat_minor": 2
}
