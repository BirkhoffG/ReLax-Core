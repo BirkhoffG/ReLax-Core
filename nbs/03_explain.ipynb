{
 "cells": [
  {
   "cell_type": "code",
   "execution_count": null,
   "metadata": {},
   "outputs": [],
   "source": [
    "#| default_exp explain"
   ]
  },
  {
   "cell_type": "code",
   "execution_count": null,
   "metadata": {},
   "outputs": [],
   "source": [
    "#| hide\n",
    "%load_ext autoreload\n",
    "%autoreload 2\n",
    "from ipynb_path import *"
   ]
  },
  {
   "cell_type": "code",
   "execution_count": null,
   "metadata": {},
   "outputs": [
    {
     "name": "stdout",
     "output_type": "stream",
     "text": [
      "Using JAX backend.\n"
     ]
    },
    {
     "name": "stderr",
     "output_type": "stream",
     "text": [
      "No GPU/TPU found, falling back to CPU. (Set TF_CPP_MIN_LOG_LEVEL=0 and rerun for more info.)\n"
     ]
    }
   ],
   "source": [
    "#| export\n",
    "from __future__ import annotations\n",
    "from relax.import_essentials import *\n",
    "from relax.data_module import DataModule, load_data\n",
    "from relax.base import *\n",
    "from relax.methods import *\n",
    "from relax.strategy import *\n",
    "from relax.ml_model import *"
   ]
  },
  {
   "cell_type": "code",
   "execution_count": null,
   "metadata": {},
   "outputs": [],
   "source": [
    "#| export\n",
    "@dataclass\n",
    "class Explanation:\n",
    "    \"\"\"Generated CF Explanations class.\"\"\"\n",
    "    cf_name: str  # cf method's name\n",
    "    data_module: DataModule  # data module\n",
    "    cfs: jnp.DeviceArray  # generated cf explanation of `X`\n",
    "    total_time: float  # total runtime\n",
    "    pred_fn: Callable[[jnp.DeviceArray], jnp.DeviceArray]  # predict function\n",
    "    dataset_name: str = str()  # dataset name\n",
    "    xs: jnp.ndarray = None  # input\n",
    "    ys: jnp.ndarray = None  # label\n",
    "\n",
    "    def __post_init__(self):\n",
    "        if self.data_module:\n",
    "            if self.dataset_name == str():\n",
    "                self.dataset_name = self.data_module.name\n",
    "            if self.xs is None:\n",
    "                self.xs = self.data_module.xs\n",
    "            if self.ys is None:\n",
    "                self.ys = self.data_module.ys\n"
   ]
  },
  {
   "cell_type": "code",
   "execution_count": null,
   "metadata": {},
   "outputs": [],
   "source": [
    "#| export\n",
    "def prepare_pred_fn(\n",
    "    cf_module: CFModule,\n",
    "    data: DataModule,\n",
    "    pred_fn: Callable[[Array, ...], Array], # Predictive function. \n",
    "    pred_fn_args: Dict = None,\n",
    ") -> Callable[[Array], Array]: # Return predictive function with signature `(x: Array) -> Array`.\n",
    "    \"\"\"Prepare the predictive function for the CF module. \n",
    "    We will train the model if `pred_fn` is not provided and `cf_module` does not have `pred_fn`.\n",
    "    If `pred_fn` is found in `cf_module`, we will use it irrespective of `pred_fn` argument.\n",
    "    If `pred_fn` is provided, we will use it.\n",
    "    \"\"\"\n",
    "    # Train the model if `pred_fn` is not provided.\n",
    "    if not hasattr(cf_module, 'pred_fn') and pred_fn is None:\n",
    "        model = MLModule().train(data)\n",
    "        return model.pred_fn\n",
    "    # If `pred_fn` is detected in cf_module, \n",
    "    # use it irrespective of `pred_fn` argument.\n",
    "    elif hasattr(cf_module, 'pred_fn'):\n",
    "        return cf_module.pred_fn\n",
    "    # If `pred_fn` is provided, use it.\n",
    "    else:\n",
    "        if pred_fn_args is not None:\n",
    "            pred_fn = ft.partial(pred_fn, **pred_fn_args)\n",
    "        return pred_fn\n",
    "\n",
    "def prepare_cf_module(\n",
    "    cf_module: CFModule,\n",
    "    data_module: DataModule,\n",
    "    pred_fn: Callable[[Array], Array] = None,\n",
    "    train_config: Dict[str, Any] = None, \n",
    "):\n",
    "    \"\"\"Prepare the CF module. \n",
    "    It will hook up the data module's apply functions via the `init_apply_fns` method\n",
    "    (e.g., `apply_constraints_fn` and `apply_regularization_fn`).\n",
    "    It will also train the model if `cf_module` is a `ParametricCFModule`.\n",
    "    \"\"\"\n",
    "    cf_module.init_apply_fns(\n",
    "        apply_constraints_fn=data_module.apply_constraints,\n",
    "        apply_regularization_fn=data_module.apply_regularization,\n",
    "    )\n",
    "    if isinstance(cf_module, ParametricCFModule):\n",
    "        cf_module.train(data_module, pred_fn=pred_fn, **train_config)\n",
    "    return cf_module\n"
   ]
  },
  {
   "cell_type": "code",
   "execution_count": null,
   "metadata": {},
   "outputs": [],
   "source": [
    "#| export\n",
    "def generate_cf_explanations(\n",
    "    cf_module: CFModule, # CF Explanation Module\n",
    "    data: DataModule, # Data Module\n",
    "    pred_fn: Callable[[Array, ...], Array] = None, # Predictive function\n",
    "    strategy: str | BaseStrategy = None, # Parallelism Strategy for generating CFs. Default to `vmap`.\n",
    "    train_config: Dict[str, Any] = None, \n",
    "    pred_fn_args: dict = None # auxiliary arguments for `pred_fn` \n",
    ") -> Explanation: # Return counterfactual explanations.\n",
    "    \"\"\"Generate CF explanations.\"\"\"\n",
    "\n",
    "    # Prepare `pred_fn`, `cf_module`, and `strategy`.\n",
    "    pred_fn = prepare_pred_fn(cf_module, data, pred_fn, pred_fn_args)\n",
    "    cf_module = prepare_cf_module(cf_module, data, train_config)\n",
    "    if strategy is None:\n",
    "        strategy = StrategyFactory.get_default_strategy()\n",
    "    strategy = StrategyFactory.get_strategy(strategy)\n",
    "    \n",
    "    # Generate CF explanations.\n",
    "    start_time = time.time()\n",
    "    cfs = strategy(cf_module.generate_cf, data.xs, pred_fn).block_until_ready()\n",
    "    total_time = time.time() - start_time\n",
    "\n",
    "    # Return CF explanations.\n",
    "    return Explanation(\n",
    "        cf_name=cf_module.name,\n",
    "        data_module=data,\n",
    "        cfs=cfs,\n",
    "        total_time=total_time,\n",
    "        pred_fn=pred_fn,\n",
    "    )"
   ]
  },
  {
   "cell_type": "code",
   "execution_count": null,
   "metadata": {},
   "outputs": [
    {
     "name": "stdout",
     "output_type": "stream",
     "text": [
      "Epoch 1/10\n",
      "\u001b[1m191/191\u001b[0m \u001b[32m━━━━━━━━━━━━━━━━━━━━\u001b[0m\u001b[37m\u001b[0m \u001b[1m2s\u001b[0m 5ms/step - accuracy: 0.6138 - loss: 0.6874    \n",
      "Epoch 2/10\n",
      "\u001b[1m191/191\u001b[0m \u001b[32m━━━━━━━━━━━━━━━━━━━━\u001b[0m\u001b[37m\u001b[0m \u001b[1m0s\u001b[0m 945us/step - accuracy: 0.8169 - loss: 0.4086\n",
      "Epoch 3/10\n",
      "\u001b[1m191/191\u001b[0m \u001b[32m━━━━━━━━━━━━━━━━━━━━\u001b[0m\u001b[37m\u001b[0m \u001b[1m0s\u001b[0m 961us/step - accuracy: 0.8189 - loss: 0.3899\n",
      "Epoch 4/10\n",
      "\u001b[1m191/191\u001b[0m \u001b[32m━━━━━━━━━━━━━━━━━━━━\u001b[0m\u001b[37m\u001b[0m \u001b[1m0s\u001b[0m 959us/step - accuracy: 0.8215 - loss: 0.3870\n",
      "Epoch 5/10\n",
      "\u001b[1m191/191\u001b[0m \u001b[32m━━━━━━━━━━━━━━━━━━━━\u001b[0m\u001b[37m\u001b[0m \u001b[1m0s\u001b[0m 963us/step - accuracy: 0.8243 - loss: 0.3780\n",
      "Epoch 6/10\n",
      "\u001b[1m191/191\u001b[0m \u001b[32m━━━━━━━━━━━━━━━━━━━━\u001b[0m\u001b[37m\u001b[0m \u001b[1m0s\u001b[0m 954us/step - accuracy: 0.8240 - loss: 0.3771\n",
      "Epoch 7/10\n",
      "\u001b[1m191/191\u001b[0m \u001b[32m━━━━━━━━━━━━━━━━━━━━\u001b[0m\u001b[37m\u001b[0m \u001b[1m0s\u001b[0m 956us/step - accuracy: 0.8236 - loss: 0.3763\n",
      "Epoch 8/10\n",
      "\u001b[1m191/191\u001b[0m \u001b[32m━━━━━━━━━━━━━━━━━━━━\u001b[0m\u001b[37m\u001b[0m \u001b[1m0s\u001b[0m 963us/step - accuracy: 0.8219 - loss: 0.3770\n",
      "Epoch 9/10\n",
      "\u001b[1m191/191\u001b[0m \u001b[32m━━━━━━━━━━━━━━━━━━━━\u001b[0m\u001b[37m\u001b[0m \u001b[1m0s\u001b[0m 965us/step - accuracy: 0.8197 - loss: 0.3781\n",
      "Epoch 10/10\n",
      "\u001b[1m191/191\u001b[0m \u001b[32m━━━━━━━━━━━━━━━━━━━━\u001b[0m\u001b[37m\u001b[0m \u001b[1m0s\u001b[0m 955us/step - accuracy: 0.8274 - loss: 0.3724\n"
     ]
    }
   ],
   "source": [
    "dm = load_data(\"adult\")\n",
    "ml_model = MLModule().train(dm)"
   ]
  },
  {
   "cell_type": "code",
   "execution_count": null,
   "metadata": {},
   "outputs": [
    {
     "data": {
      "application/vnd.jupyter.widget-view+json": {
       "model_id": "0feb98091c76495b8f2ed1fe0de070ac",
       "version_major": 2,
       "version_minor": 0
      },
      "text/plain": [
       "  0%|          | 0/100 [00:00<?, ?it/s]"
      ]
     },
     "metadata": {},
     "output_type": "display_data"
    }
   ],
   "source": [
    "exps = generate_cf_explanations(\n",
    "    VanillaCF(),\n",
    "    dm, ml_model.pred_fn,\n",
    ")"
   ]
  }
 ],
 "metadata": {
  "kernelspec": {
   "display_name": "python3",
   "language": "python",
   "name": "python3"
  }
 },
 "nbformat": 4,
 "nbformat_minor": 2
}
