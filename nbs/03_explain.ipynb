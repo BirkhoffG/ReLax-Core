{
 "cells": [
  {
   "cell_type": "code",
   "execution_count": null,
   "metadata": {},
   "outputs": [],
   "source": [
    "#| default_exp explain"
   ]
  },
  {
   "cell_type": "code",
   "execution_count": null,
   "metadata": {},
   "outputs": [],
   "source": [
    "#| hide\n",
    "%load_ext autoreload\n",
    "%autoreload 2\n",
    "from ipynb_path import *"
   ]
  },
  {
   "cell_type": "code",
   "execution_count": null,
   "metadata": {},
   "outputs": [
    {
     "name": "stdout",
     "output_type": "stream",
     "text": [
      "Using JAX backend.\n"
     ]
    },
    {
     "name": "stderr",
     "output_type": "stream",
     "text": [
      "No GPU/TPU found, falling back to CPU. (Set TF_CPP_MIN_LOG_LEVEL=0 and rerun for more info.)\n"
     ]
    }
   ],
   "source": [
    "#| export\n",
    "from __future__ import annotations\n",
    "from relax.import_essentials import *\n",
    "from relax.data_module import DataModule, load_data\n",
    "from relax.base import *\n",
    "from relax.methods import *\n",
    "from relax.strategy import *\n",
    "from relax.ml_model import *\n",
    "import einops\n",
    "from sklearn.datasets import make_classification"
   ]
  },
  {
   "cell_type": "markdown",
   "metadata": {},
   "source": [
    "## Explanation"
   ]
  },
  {
   "cell_type": "code",
   "execution_count": null,
   "metadata": {},
   "outputs": [],
   "source": [
    "#| export\n",
    "class Explanation:\n",
    "    \"\"\"Generated CF Explanations class. It behaves like a `DataModule`, except a few more attributes.\"\"\"\n",
    "\n",
    "    def __init__(\n",
    "        self,\n",
    "        data: DataModule,  # Data module\n",
    "        cfs: Array,  # Generated cf explanation of `xs` in `data`\n",
    "        pred_fn: Callable[[Array], Array],  # Predict function\n",
    "        total_time: float = None,  # Total runtime\n",
    "        cf_name: str = \"CFModule\",  # CF method's name\n",
    "    ):\n",
    "        self._data = data\n",
    "        self._cfs = cfs\n",
    "        self.pred_fn = pred_fn\n",
    "        self.total_time = total_time\n",
    "        self.cf_name = cf_name\n",
    "\n",
    "    def __repr__(self):\n",
    "        return f\"Explanation(data_name={self.data_name}, cf_name={self.cf_name}, \" \\\n",
    "               f\"total_time={self.total_time}, xs={self.xs}, ys={self.ys}, cfs={self.cfs})\"\n",
    "\n",
    "    @property\n",
    "    def data(self):\n",
    "        return self._data\n",
    "\n",
    "    @property\n",
    "    def xs(self):\n",
    "        return self.data.xs\n",
    "    \n",
    "    @property\n",
    "    def ys(self):\n",
    "        return self.data.ys\n",
    "    \n",
    "    @property\n",
    "    def cfs(self) -> Array:\n",
    "        \"\"\"Return the counterfactuals in the shape of (n, c, k)\"\"\"\n",
    "        if self._cfs.ndim == 2:\n",
    "            return einops.rearrange(self._cfs, \"n d -> n () d\")\n",
    "        return self._cfs\n",
    "    \n",
    "    @property\n",
    "    def data_name(self):\n",
    "        return self.data.name\n",
    "\n",
    "    @property\n",
    "    def train_indices(self):\n",
    "        return self.data.train_indices\n",
    "    \n",
    "    @property\n",
    "    def test_indices(self):\n",
    "        return self.data.test_indices\n",
    "    \n",
    "    def apply_constraints(self, *args, **kwargs):\n",
    "        return self.data.apply_constraints(*args, **kwargs)\n",
    "    \n",
    "    def compute_reg_loss(self, *args, **kwargs):\n",
    "        return self.data.compute_reg_loss(*args, **kwargs)"
   ]
  },
  {
   "cell_type": "code",
   "execution_count": null,
   "metadata": {},
   "outputs": [],
   "source": [
    "#| export\n",
    "def fake_explanation(n_cfs: int=1):\n",
    "    dm = load_data('dummy')\n",
    "    ml_model = load_ml_module('dummy')\n",
    "    if n_cfs < 1: \n",
    "        raise ValueError(f'n_cfs must be greater than 0, but got n_cfs={n_cfs}.')\n",
    "    elif n_cfs == 1:\n",
    "        cfs = dm.xs\n",
    "    else:\n",
    "        # Allow for multiple counterfactuals\n",
    "        cfs = einops.repeat(dm.xs, \"n k -> n c k\", c=n_cfs)\n",
    "\n",
    "    return Explanation(\n",
    "        data=dm, cfs=cfs, pred_fn=ml_model.pred_fn, total_time=0.0, cf_name='dummy_method'\n",
    "    )"
   ]
  },
  {
   "cell_type": "code",
   "execution_count": null,
   "metadata": {},
   "outputs": [],
   "source": [
    "exp = fake_explanation(n_cfs=1)\n",
    "xs_shape = exp.xs.shape\n",
    "assert exp.cfs.shape == (xs_shape[0], 1, xs_shape[-1])\n",
    "\n",
    "exp = fake_explanation(n_cfs=5)\n",
    "assert exp.cfs.shape == (xs_shape[0], 5, xs_shape[-1])"
   ]
  },
  {
   "cell_type": "markdown",
   "metadata": {},
   "source": [
    "## Generate Explanations"
   ]
  },
  {
   "cell_type": "code",
   "execution_count": null,
   "metadata": {},
   "outputs": [],
   "source": [
    "#| export\n",
    "def prepare_pred_fn(\n",
    "    cf_module: CFModule,\n",
    "    data: DataModule,\n",
    "    pred_fn: Callable[[Array, ...], Array], # Predictive function. \n",
    "    pred_fn_args: Dict = None,\n",
    ") -> Callable[[Array], Array]: # Return predictive function with signature `(x: Array) -> Array`.\n",
    "    \"\"\"Prepare the predictive function for the CF module. \n",
    "    We will train the model if `pred_fn` is not provided and `cf_module` does not have `pred_fn`.\n",
    "    If `pred_fn` is found in `cf_module`, we will use it irrespective of `pred_fn` argument.\n",
    "    If `pred_fn` is provided, we will use it.\n",
    "    \"\"\"\n",
    "    # Train the model if `pred_fn` is not provided.\n",
    "    if not hasattr(cf_module, 'pred_fn') and pred_fn is None:\n",
    "        model = MLModule().train(data)\n",
    "        return model.pred_fn\n",
    "    # If `pred_fn` is detected in cf_module, \n",
    "    # use it irrespective of `pred_fn` argument.\n",
    "    elif hasattr(cf_module, 'pred_fn'):\n",
    "        return cf_module.pred_fn\n",
    "    # If `pred_fn` is provided, use it.\n",
    "    else:\n",
    "        if pred_fn_args is not None:\n",
    "            pred_fn = ft.partial(pred_fn, **pred_fn_args)\n",
    "        return pred_fn\n",
    "\n",
    "def prepare_cf_module(\n",
    "    cf_module: CFModule,\n",
    "    data_module: DataModule,\n",
    "    pred_fn: Callable[[Array], Array] = None,\n",
    "    train_config: Dict[str, Any] = None, \n",
    "):\n",
    "    \"\"\"Prepare the CF module. \n",
    "    It will hook up the data module, \n",
    "    and its apply functions via the `init_apply_fns` method\n",
    "    (e.g., `apply_constraints_fn` and `compute_reg_loss_fn`).\n",
    "    Next, it will train the model if `cf_module` is a `ParametricCFModule`.\n",
    "    Finally, it will call `before_generate_cf` method.\n",
    "    \"\"\"\n",
    "    cf_module.set_data_module(data_module)\n",
    "    cf_module.set_apply_constraints_fn(data_module.apply_constraints)\n",
    "    cf_module.set_compute_reg_loss_fn(data_module.compute_reg_loss)\n",
    "    if isinstance(cf_module, ParametricCFModule):\n",
    "        cf_module.train(data_module, pred_fn=pred_fn, **train_config)\n",
    "    cf_module.before_generate_cf()\n",
    "    return cf_module\n"
   ]
  },
  {
   "cell_type": "code",
   "execution_count": null,
   "metadata": {},
   "outputs": [],
   "source": [
    "#| export\n",
    "def generate_cf_explanations(\n",
    "    cf_module: CFModule, # CF Explanation Module\n",
    "    data: DataModule, # Data Module\n",
    "    pred_fn: Callable[[Array, ...], Array] = None, # Predictive function\n",
    "    strategy: str | BaseStrategy = None, # Parallelism Strategy for generating CFs. Default to `vmap`.\n",
    "    train_config: Dict[str, Any] = None, \n",
    "    pred_fn_args: dict = None # auxiliary arguments for `pred_fn` \n",
    ") -> Explanation: # Return counterfactual explanations.\n",
    "    \"\"\"Generate CF explanations.\"\"\"\n",
    "\n",
    "    # Prepare `pred_fn`, `cf_module`, and `strategy`.\n",
    "    pred_fn = prepare_pred_fn(cf_module, data, pred_fn, pred_fn_args)\n",
    "    cf_module = prepare_cf_module(cf_module, data, train_config)\n",
    "    if strategy is None:\n",
    "        strategy = StrategyFactory.get_default_strategy()\n",
    "    strategy = StrategyFactory.get_strategy(strategy)\n",
    "    \n",
    "    # Generate CF explanations.\n",
    "    start_time = time.time()\n",
    "    cfs = strategy(cf_module.generate_cf, data.xs, pred_fn).block_until_ready()\n",
    "    total_time = time.time() - start_time\n",
    "\n",
    "    # Return CF explanations.\n",
    "    return Explanation(\n",
    "        cf_name=cf_module.name,\n",
    "        data=data,\n",
    "        cfs=cfs,\n",
    "        total_time=total_time,\n",
    "        pred_fn=pred_fn,\n",
    "    )"
   ]
  },
  {
   "cell_type": "code",
   "execution_count": null,
   "metadata": {},
   "outputs": [
    {
     "name": "stdout",
     "output_type": "stream",
     "text": [
      "Epoch 1/3\n",
      "\u001b[1m191/191\u001b[0m \u001b[32m━━━━━━━━━━━━━━━━━━━━\u001b[0m\u001b[37m\u001b[0m \u001b[1m2s\u001b[0m 5ms/step - accuracy: 0.7335 - loss: 0.5497    \n",
      "Epoch 2/3\n",
      "\u001b[1m191/191\u001b[0m \u001b[32m━━━━━━━━━━━━━━━━━━━━\u001b[0m\u001b[37m\u001b[0m \u001b[1m0s\u001b[0m 988us/step - accuracy: 0.8045 - loss: 0.4213\n",
      "Epoch 3/3\n",
      "\u001b[1m191/191\u001b[0m \u001b[32m━━━━━━━━━━━━━━━━━━━━\u001b[0m\u001b[37m\u001b[0m \u001b[1m0s\u001b[0m 989us/step - accuracy: 0.8149 - loss: 0.4002\n"
     ]
    }
   ],
   "source": [
    "dm = load_data(\"adult\")\n",
    "ml_model = MLModule().train(dm, epochs=3)"
   ]
  },
  {
   "cell_type": "code",
   "execution_count": null,
   "metadata": {},
   "outputs": [
    {
     "data": {
      "application/vnd.jupyter.widget-view+json": {
       "model_id": "7946c12d4e3647eb88907625d0e2678d",
       "version_major": 2,
       "version_minor": 0
      },
      "text/plain": [
       "  0%|          | 0/100 [00:00<?, ?it/s]"
      ]
     },
     "metadata": {},
     "output_type": "display_data"
    }
   ],
   "source": [
    "exps = generate_cf_explanations(\n",
    "    VanillaCF(),\n",
    "    dm, ml_model.pred_fn,\n",
    ")"
   ]
  }
 ],
 "metadata": {
  "kernelspec": {
   "display_name": "python3",
   "language": "python",
   "name": "python3"
  }
 },
 "nbformat": 4,
 "nbformat_minor": 2
}
